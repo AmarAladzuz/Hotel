{
 "cells": [
  {
   "cell_type": "code",
   "execution_count": 2,
   "id": "fc963ea5",
   "metadata": {},
   "outputs": [],
   "source": [
    "import pandas as pd\n",
    "import numpy as np\n",
    "%matplotlib inline\n",
    "import matplotlib.pyplot as plt\n",
    "from sklearn.preprocessing import StandardScaler\n",
    "plt.style.use('ggplot')\n",
    "import scipy\n",
    "import matplotlib.cm as cm\n",
    "import sklearn.metrics as sm\n",
    "import scipy.stats as stats\n",
    "import seaborn as sns; sns.set_theme()"
   ]
  },
  {
   "cell_type": "code",
   "execution_count": 3,
   "id": "e5dd9ae3",
   "metadata": {},
   "outputs": [
    {
     "data": {
      "text/html": [
       "<div>\n",
       "<style scoped>\n",
       "    .dataframe tbody tr th:only-of-type {\n",
       "        vertical-align: middle;\n",
       "    }\n",
       "\n",
       "    .dataframe tbody tr th {\n",
       "        vertical-align: top;\n",
       "    }\n",
       "\n",
       "    .dataframe thead th {\n",
       "        text-align: right;\n",
       "    }\n",
       "</style>\n",
       "<table border=\"1\" class=\"dataframe\">\n",
       "  <thead>\n",
       "    <tr style=\"text-align: right;\">\n",
       "      <th></th>\n",
       "      <th>Hotel name</th>\n",
       "      <th>Price(BAM)</th>\n",
       "      <th>Hotel star rating</th>\n",
       "      <th>Distance</th>\n",
       "      <th>Customer rating</th>\n",
       "      <th>Rooms</th>\n",
       "      <th>Squares</th>\n",
       "      <th>City</th>\n",
       "    </tr>\n",
       "    <tr>\n",
       "      <th>ID</th>\n",
       "      <th></th>\n",
       "      <th></th>\n",
       "      <th></th>\n",
       "      <th></th>\n",
       "      <th></th>\n",
       "      <th></th>\n",
       "      <th></th>\n",
       "      <th></th>\n",
       "    </tr>\n",
       "  </thead>\n",
       "  <tbody>\n",
       "    <tr>\n",
       "      <th>1</th>\n",
       "      <td>Europe</td>\n",
       "      <td>139</td>\n",
       "      <td>5</td>\n",
       "      <td>350</td>\n",
       "      <td>8.3</td>\n",
       "      <td>1</td>\n",
       "      <td>25</td>\n",
       "      <td>Sarajevo</td>\n",
       "    </tr>\n",
       "    <tr>\n",
       "      <th>2</th>\n",
       "      <td>Europe</td>\n",
       "      <td>187</td>\n",
       "      <td>5</td>\n",
       "      <td>350</td>\n",
       "      <td>8.3</td>\n",
       "      <td>2</td>\n",
       "      <td>40</td>\n",
       "      <td>Sarajevo</td>\n",
       "    </tr>\n",
       "    <tr>\n",
       "      <th>3</th>\n",
       "      <td>Hills</td>\n",
       "      <td>255</td>\n",
       "      <td>5</td>\n",
       "      <td>10000</td>\n",
       "      <td>8.5</td>\n",
       "      <td>3</td>\n",
       "      <td>42</td>\n",
       "      <td>Sarajevo</td>\n",
       "    </tr>\n",
       "    <tr>\n",
       "      <th>4</th>\n",
       "      <td>Hills</td>\n",
       "      <td>141</td>\n",
       "      <td>5</td>\n",
       "      <td>10000</td>\n",
       "      <td>8.5</td>\n",
       "      <td>2</td>\n",
       "      <td>42</td>\n",
       "      <td>Sarajevo</td>\n",
       "    </tr>\n",
       "    <tr>\n",
       "      <th>5</th>\n",
       "      <td>Boutique</td>\n",
       "      <td>117</td>\n",
       "      <td>4</td>\n",
       "      <td>450</td>\n",
       "      <td>8.7</td>\n",
       "      <td>1</td>\n",
       "      <td>15</td>\n",
       "      <td>Sarajevo</td>\n",
       "    </tr>\n",
       "  </tbody>\n",
       "</table>\n",
       "</div>"
      ],
      "text/plain": [
       "   Hotel name  Price(BAM)  Hotel star rating  Distance  Customer rating  \\\n",
       "ID                                                                        \n",
       "1      Europe         139                  5       350              8.3   \n",
       "2      Europe         187                  5       350              8.3   \n",
       "3       Hills         255                  5     10000              8.5   \n",
       "4       Hills         141                  5     10000              8.5   \n",
       "5    Boutique         117                  4       450              8.7   \n",
       "\n",
       "    Rooms  Squares      City  \n",
       "ID                            \n",
       "1       1       25  Sarajevo  \n",
       "2       2       40  Sarajevo  \n",
       "3       3       42  Sarajevo  \n",
       "4       2       42  Sarajevo  \n",
       "5       1       15  Sarajevo  "
      ]
     },
     "execution_count": 3,
     "metadata": {},
     "output_type": "execute_result"
    }
   ],
   "source": [
    "df = pd.read_excel(\"Hotels Data.xlsx\")\n",
    "df.set_index(\"ID\", inplace = True)\n",
    "df.head()"
   ]
  },
  {
   "cell_type": "markdown",
   "id": "3f68bbcc",
   "metadata": {},
   "source": [
    "### Descriptive statistics for Price(BAM)"
   ]
  },
  {
   "cell_type": "code",
   "execution_count": 4,
   "id": "160da1d2",
   "metadata": {},
   "outputs": [
    {
     "data": {
      "text/plain": [
       "count    120.00\n",
       "mean     153.34\n",
       "std       79.44\n",
       "min       39.00\n",
       "25%       99.50\n",
       "50%      140.00\n",
       "75%      180.00\n",
       "max      474.00\n",
       "Name: Price(BAM), dtype: float64"
      ]
     },
     "execution_count": 4,
     "metadata": {},
     "output_type": "execute_result"
    }
   ],
   "source": [
    "df[\"Price(BAM)\"].describe(). round(2)"
   ]
  },
  {
   "cell_type": "markdown",
   "id": "45d189db",
   "metadata": {},
   "source": [
    "- count: total observations of variable Price(BAM) is 120\n",
    "- mean: mean value of the variable Price(BAM) is 153,34 BAM\n",
    "- std: average variation of individual values from average value of variable Price(BAM) is 79,44 BAM\n",
    "- min: minimal value of variable Price(BAM) is 39,00 BAM\n",
    "- 25%: 25% values of variable Price(BAM) are equal to 99,50 BAM or lower\n",
    "- 50%(median): 50% values of variable Price(BAM) have the value of 140,00 BAM or lower/higher\n",
    "- 75%: 75% values of variable Price(BAM) have the value of 180,00 BAM or lower\n",
    "- max: maximum value of variable Price(BAM) is 474,00 BAM\n",
    "\n",
    "\n",
    "\n",
    "\n",
    "\n",
    "\n",
    "\n",
    "\n"
   ]
  },
  {
   "cell_type": "markdown",
   "id": "9cae7edc",
   "metadata": {},
   "source": [
    "#### Correlation"
   ]
  },
  {
   "cell_type": "code",
   "execution_count": 5,
   "id": "ab5a6b0a",
   "metadata": {},
   "outputs": [
    {
     "data": {
      "text/html": [
       "<div>\n",
       "<style scoped>\n",
       "    .dataframe tbody tr th:only-of-type {\n",
       "        vertical-align: middle;\n",
       "    }\n",
       "\n",
       "    .dataframe tbody tr th {\n",
       "        vertical-align: top;\n",
       "    }\n",
       "\n",
       "    .dataframe thead th {\n",
       "        text-align: right;\n",
       "    }\n",
       "</style>\n",
       "<table border=\"1\" class=\"dataframe\">\n",
       "  <thead>\n",
       "    <tr style=\"text-align: right;\">\n",
       "      <th></th>\n",
       "      <th>Price(BAM)</th>\n",
       "      <th>Hotel star rating</th>\n",
       "      <th>Distance</th>\n",
       "      <th>Customer rating</th>\n",
       "      <th>Rooms</th>\n",
       "      <th>Squares</th>\n",
       "    </tr>\n",
       "  </thead>\n",
       "  <tbody>\n",
       "    <tr>\n",
       "      <th>Price(BAM)</th>\n",
       "      <td>1.000000</td>\n",
       "      <td>0.486735</td>\n",
       "      <td>-0.098980</td>\n",
       "      <td>0.324418</td>\n",
       "      <td>0.438016</td>\n",
       "      <td>0.660703</td>\n",
       "    </tr>\n",
       "    <tr>\n",
       "      <th>Hotel star rating</th>\n",
       "      <td>0.486735</td>\n",
       "      <td>1.000000</td>\n",
       "      <td>-0.073850</td>\n",
       "      <td>0.499198</td>\n",
       "      <td>-0.022923</td>\n",
       "      <td>0.436063</td>\n",
       "    </tr>\n",
       "    <tr>\n",
       "      <th>Distance</th>\n",
       "      <td>-0.098980</td>\n",
       "      <td>-0.073850</td>\n",
       "      <td>1.000000</td>\n",
       "      <td>-0.344031</td>\n",
       "      <td>0.056606</td>\n",
       "      <td>0.054665</td>\n",
       "    </tr>\n",
       "    <tr>\n",
       "      <th>Customer rating</th>\n",
       "      <td>0.324418</td>\n",
       "      <td>0.499198</td>\n",
       "      <td>-0.344031</td>\n",
       "      <td>1.000000</td>\n",
       "      <td>-0.050520</td>\n",
       "      <td>0.275017</td>\n",
       "    </tr>\n",
       "    <tr>\n",
       "      <th>Rooms</th>\n",
       "      <td>0.438016</td>\n",
       "      <td>-0.022923</td>\n",
       "      <td>0.056606</td>\n",
       "      <td>-0.050520</td>\n",
       "      <td>1.000000</td>\n",
       "      <td>0.420093</td>\n",
       "    </tr>\n",
       "    <tr>\n",
       "      <th>Squares</th>\n",
       "      <td>0.660703</td>\n",
       "      <td>0.436063</td>\n",
       "      <td>0.054665</td>\n",
       "      <td>0.275017</td>\n",
       "      <td>0.420093</td>\n",
       "      <td>1.000000</td>\n",
       "    </tr>\n",
       "  </tbody>\n",
       "</table>\n",
       "</div>"
      ],
      "text/plain": [
       "                   Price(BAM)  Hotel star rating  Distance  Customer rating  \\\n",
       "Price(BAM)           1.000000           0.486735 -0.098980         0.324418   \n",
       "Hotel star rating    0.486735           1.000000 -0.073850         0.499198   \n",
       "Distance            -0.098980          -0.073850  1.000000        -0.344031   \n",
       "Customer rating      0.324418           0.499198 -0.344031         1.000000   \n",
       "Rooms                0.438016          -0.022923  0.056606        -0.050520   \n",
       "Squares              0.660703           0.436063  0.054665         0.275017   \n",
       "\n",
       "                      Rooms   Squares  \n",
       "Price(BAM)         0.438016  0.660703  \n",
       "Hotel star rating -0.022923  0.436063  \n",
       "Distance           0.056606  0.054665  \n",
       "Customer rating   -0.050520  0.275017  \n",
       "Rooms              1.000000  0.420093  \n",
       "Squares            0.420093  1.000000  "
      ]
     },
     "execution_count": 5,
     "metadata": {},
     "output_type": "execute_result"
    }
   ],
   "source": [
    "corr = df[[\"Price(BAM)\", \"Hotel star rating\", \"Distance\", \"Customer rating\", \"Rooms\", \"Squares\"]].corr()\n",
    "corr"
   ]
  },
  {
   "cell_type": "code",
   "execution_count": 6,
   "id": "6e1cbbb5",
   "metadata": {},
   "outputs": [
    {
     "data": {
      "text/plain": [
       "[Text(0.5, 1.0, 'Correlation matrix')]"
      ]
     },
     "execution_count": 6,
     "metadata": {},
     "output_type": "execute_result"
    },
    {
     "data": {
      "image/png": "[encoded data removed]",
      "text/plain": [
       "<Figure size 720x576 with 2 Axes>"
      ]
     },
     "metadata": {},
     "output_type": "display_data"
    }
   ],
   "source": [
    "fig, ax = plt.subplots(figsize = (10, 8))\n",
    "\n",
    "sns.heatmap(corr, annot = True, vmin = -1, vmax = 1, cmap = \"BrBG\")\n",
    "\n",
    "ax.set(title = \"Correlation matrix\")"
   ]
  },
  {
   "cell_type": "code",
   "execution_count": 7,
   "id": "4f05730a",
   "metadata": {},
   "outputs": [
    {
     "data": {
      "text/plain": [
       "Price(BAM)           1.000000\n",
       "Hotel star rating    0.486735\n",
       "Distance            -0.098980\n",
       "Customer rating      0.324418\n",
       "Rooms                0.438016\n",
       "Squares              0.660703\n",
       "Name: Price(BAM), dtype: float64"
      ]
     },
     "execution_count": 7,
     "metadata": {},
     "output_type": "execute_result"
    }
   ],
   "source": [
    "corr[\"Price(BAM)\"]"
   ]
  },
  {
   "cell_type": "markdown",
   "id": "ce78b65c",
   "metadata": {},
   "source": [
    "Medium positive correlation of variable Price(BAM) with variables:\n",
    "- Hotel star rating, \n",
    "- Distance, \n",
    "- Customer rating, \n",
    "- Rooms and \n",
    "- Square\n",
    "\n",
    "Increase in value of theese variables leeds to increase of value of Price(BAM)\n",
    "\n",
    "\n",
    "Small negative correlation with the variable:\n",
    "- Distance\n",
    "\n",
    "Increase in value of this variable leeds to decrease of value of Price(BAM)"
   ]
  },
  {
   "cell_type": "markdown",
   "id": "f46a1d4f",
   "metadata": {},
   "source": [
    "#### Skewness and Kurtosis"
   ]
  },
  {
   "cell_type": "code",
   "execution_count": 8,
   "id": "f19db7a5",
   "metadata": {},
   "outputs": [
    {
     "data": {
      "text/plain": [
       "[Text(0.5, 1.0, 'Price(BAM) Distribution'), Text(0.5, 0, 'BAM')]"
      ]
     },
     "execution_count": 8,
     "metadata": {},
     "output_type": "execute_result"
    },
    {
     "data": {
      "image/png": "[encoded data removed]",
      "text/plain": [
       "<Figure size 720x504 with 1 Axes>"
      ]
     },
     "metadata": {},
     "output_type": "display_data"
    }
   ],
   "source": [
    "fig, ax = plt.subplots(figsize = (10, 7))\n",
    "\n",
    "df[\"Price(BAM)\"].hist()\n",
    "\n",
    "ax.set(title = \"Price(BAM) Distribution\", xlabel = \"BAM\")"
   ]
  },
  {
   "cell_type": "code",
   "execution_count": 9,
   "id": "cf567490",
   "metadata": {},
   "outputs": [
    {
     "data": {
      "text/plain": [
       "1.7525620170331295"
      ]
     },
     "execution_count": 9,
     "metadata": {},
     "output_type": "execute_result"
    }
   ],
   "source": [
    "stats.skew(df[\"Price(BAM)\"])"
   ]
  },
  {
   "cell_type": "code",
   "execution_count": 10,
   "id": "04ccfa7e",
   "metadata": {},
   "outputs": [
    {
     "data": {
      "text/plain": [
       "7.485316905335616"
      ]
     },
     "execution_count": 10,
     "metadata": {},
     "output_type": "execute_result"
    }
   ],
   "source": [
    "stats.kurtosis(df[\"Price(BAM)\"], fisher = False)"
   ]
  },
  {
   "cell_type": "markdown",
   "id": "1db2041a",
   "metadata": {},
   "source": [
    "Positivly skewed distribution. Most observation are concentrated on lower values. Positive kurtosis. This indicates that the distribution is peaked. From the graphical representation we could conclude that it is not normal distribution."
   ]
  },
  {
   "cell_type": "markdown",
   "id": "d2b1df5b",
   "metadata": {},
   "source": [
    "#### Normality test"
   ]
  },
  {
   "cell_type": "code",
   "execution_count": 11,
   "id": "b3ac7857",
   "metadata": {},
   "outputs": [
    {
     "data": {
      "text/plain": [
       "KstestResult(statistic=1.0, pvalue=0.0)"
      ]
     },
     "execution_count": 11,
     "metadata": {},
     "output_type": "execute_result"
    }
   ],
   "source": [
    "stats.kstest(df[\"Price(BAM)\"], \"norm\")"
   ]
  },
  {
   "cell_type": "markdown",
   "id": "7ba303c4",
   "metadata": {},
   "source": [
    "P value is 0 which means that we reject null hypothesis and conclude that the variable Price(BAM) does not follow normal distribution. Because of that we will use non parametric tests"
   ]
  },
  {
   "cell_type": "markdown",
   "id": "1e29fa33",
   "metadata": {},
   "source": [
    "### Finding outliers"
   ]
  },
  {
   "cell_type": "markdown",
   "id": "78012766",
   "metadata": {},
   "source": [
    "#### With boxplot"
   ]
  },
  {
   "cell_type": "code",
   "execution_count": 12,
   "id": "17067a71",
   "metadata": {},
   "outputs": [
    {
     "data": {
      "text/plain": [
       "''"
      ]
     },
     "execution_count": 12,
     "metadata": {},
     "output_type": "execute_result"
    },
    {
     "data": {
      "image/png": "[encoded data removed]",
      "text/plain": [
       "<Figure size 720x504 with 1 Axes>"
      ]
     },
     "metadata": {},
     "output_type": "display_data"
    }
   ],
   "source": [
    "fig, ax = plt.subplots(figsize = (10, 7))\n",
    "\n",
    "plt.boxplot(df[\"Price(BAM)\"], )\n",
    "\n",
    "\n",
    "ax.set(title = \"Boxplot of Price(BAM)\")\n",
    ";"
   ]
  },
  {
   "cell_type": "code",
   "execution_count": 13,
   "id": "ebaeb310",
   "metadata": {},
   "outputs": [
    {
     "data": {
      "text/plain": [
       "ID\n",
       "64     474\n",
       "79     472\n",
       "98     464\n",
       "96     343\n",
       "48     296\n",
       "      ... \n",
       "65      58\n",
       "107     57\n",
       "90      53\n",
       "89      49\n",
       "18      39\n",
       "Name: Price(BAM), Length: 120, dtype: int64"
      ]
     },
     "execution_count": 13,
     "metadata": {},
     "output_type": "execute_result"
    }
   ],
   "source": [
    "df[\"Price(BAM)\"].sort_values(ascending = False)"
   ]
  },
  {
   "cell_type": "markdown",
   "id": "1ce20618",
   "metadata": {},
   "source": [
    "From the boxplot we can see that we have 3 outliers with high values. Those are 474, 472 and 464 BAM"
   ]
  },
  {
   "cell_type": "markdown",
   "id": "e9e6f5e4",
   "metadata": {},
   "source": [
    "#### With z values"
   ]
  },
  {
   "cell_type": "code",
   "execution_count": 14,
   "id": "53edb425",
   "metadata": {},
   "outputs": [],
   "source": [
    "scaler = StandardScaler()\n",
    "scaler = scaler.fit(pd.DataFrame(df[\"Price(BAM)\"]))\n",
    "scaler = scaler.transform(pd.DataFrame(df[\"Price(BAM)\"]))\n",
    "\n",
    "results = pd.DataFrame(scaler)"
   ]
  },
  {
   "cell_type": "code",
   "execution_count": 15,
   "id": "be8d56bd",
   "metadata": {},
   "outputs": [
    {
     "data": {
      "text/html": [
       "<div>\n",
       "<style scoped>\n",
       "    .dataframe tbody tr th:only-of-type {\n",
       "        vertical-align: middle;\n",
       "    }\n",
       "\n",
       "    .dataframe tbody tr th {\n",
       "        vertical-align: top;\n",
       "    }\n",
       "\n",
       "    .dataframe thead th {\n",
       "        text-align: right;\n",
       "    }\n",
       "</style>\n",
       "<table border=\"1\" class=\"dataframe\">\n",
       "  <thead>\n",
       "    <tr style=\"text-align: right;\">\n",
       "      <th></th>\n",
       "      <th>0</th>\n",
       "    </tr>\n",
       "  </thead>\n",
       "  <tbody>\n",
       "    <tr>\n",
       "      <th>17</th>\n",
       "      <td>-1.445304</td>\n",
       "    </tr>\n",
       "    <tr>\n",
       "      <th>88</th>\n",
       "      <td>-1.318902</td>\n",
       "    </tr>\n",
       "    <tr>\n",
       "      <th>89</th>\n",
       "      <td>-1.268341</td>\n",
       "    </tr>\n",
       "    <tr>\n",
       "      <th>106</th>\n",
       "      <td>-1.217780</td>\n",
       "    </tr>\n",
       "    <tr>\n",
       "      <th>64</th>\n",
       "      <td>-1.205140</td>\n",
       "    </tr>\n",
       "  </tbody>\n",
       "</table>\n",
       "</div>"
      ],
      "text/plain": [
       "            0\n",
       "17  -1.445304\n",
       "88  -1.318902\n",
       "89  -1.268341\n",
       "106 -1.217780\n",
       "64  -1.205140"
      ]
     },
     "execution_count": 15,
     "metadata": {},
     "output_type": "execute_result"
    }
   ],
   "source": [
    "results.sort_values(by = 0).head()"
   ]
  },
  {
   "cell_type": "markdown",
   "id": "64d2858c",
   "metadata": {},
   "source": [
    "There are no values lower then -3"
   ]
  },
  {
   "cell_type": "code",
   "execution_count": 16,
   "id": "f30209a7",
   "metadata": {},
   "outputs": [
    {
     "data": {
      "text/html": [
       "<div>\n",
       "<style scoped>\n",
       "    .dataframe tbody tr th:only-of-type {\n",
       "        vertical-align: middle;\n",
       "    }\n",
       "\n",
       "    .dataframe tbody tr th {\n",
       "        vertical-align: top;\n",
       "    }\n",
       "\n",
       "    .dataframe thead th {\n",
       "        text-align: right;\n",
       "    }\n",
       "</style>\n",
       "<table border=\"1\" class=\"dataframe\">\n",
       "  <thead>\n",
       "    <tr style=\"text-align: right;\">\n",
       "      <th></th>\n",
       "      <th>0</th>\n",
       "    </tr>\n",
       "  </thead>\n",
       "  <tbody>\n",
       "    <tr>\n",
       "      <th>47</th>\n",
       "      <td>1.803233</td>\n",
       "    </tr>\n",
       "    <tr>\n",
       "      <th>95</th>\n",
       "      <td>2.397324</td>\n",
       "    </tr>\n",
       "    <tr>\n",
       "      <th>97</th>\n",
       "      <td>3.926791</td>\n",
       "    </tr>\n",
       "    <tr>\n",
       "      <th>78</th>\n",
       "      <td>4.027913</td>\n",
       "    </tr>\n",
       "    <tr>\n",
       "      <th>63</th>\n",
       "      <td>4.053193</td>\n",
       "    </tr>\n",
       "  </tbody>\n",
       "</table>\n",
       "</div>"
      ],
      "text/plain": [
       "           0\n",
       "47  1.803233\n",
       "95  2.397324\n",
       "97  3.926791\n",
       "78  4.027913\n",
       "63  4.053193"
      ]
     },
     "execution_count": 16,
     "metadata": {},
     "output_type": "execute_result"
    }
   ],
   "source": [
    "results.sort_values(by = 0).tail()"
   ]
  },
  {
   "cell_type": "markdown",
   "id": "baee2535",
   "metadata": {},
   "source": [
    "There are three values above 3 which are outliers"
   ]
  },
  {
   "cell_type": "markdown",
   "id": "41e3d497",
   "metadata": {},
   "source": [
    "### Statistical hypothesis tests"
   ]
  },
  {
   "cell_type": "markdown",
   "id": "81c499b3",
   "metadata": {},
   "source": [
    "#### One sample t test"
   ]
  },
  {
   "cell_type": "code",
   "execution_count": 17,
   "id": "9cd01ef0",
   "metadata": {},
   "outputs": [
    {
     "data": {
      "text/html": [
       "<div>\n",
       "<style scoped>\n",
       "    .dataframe tbody tr th:only-of-type {\n",
       "        vertical-align: middle;\n",
       "    }\n",
       "\n",
       "    .dataframe tbody tr th {\n",
       "        vertical-align: top;\n",
       "    }\n",
       "\n",
       "    .dataframe thead th {\n",
       "        text-align: right;\n",
       "    }\n",
       "</style>\n",
       "<table border=\"1\" class=\"dataframe\">\n",
       "  <thead>\n",
       "    <tr style=\"text-align: right;\">\n",
       "      <th></th>\n",
       "      <th>Hotel name</th>\n",
       "      <th>Price(BAM)</th>\n",
       "      <th>Hotel star rating</th>\n",
       "      <th>Distance</th>\n",
       "      <th>Customer rating</th>\n",
       "      <th>Rooms</th>\n",
       "      <th>Squares</th>\n",
       "      <th>City</th>\n",
       "    </tr>\n",
       "    <tr>\n",
       "      <th>ID</th>\n",
       "      <th></th>\n",
       "      <th></th>\n",
       "      <th></th>\n",
       "      <th></th>\n",
       "      <th></th>\n",
       "      <th></th>\n",
       "      <th></th>\n",
       "      <th></th>\n",
       "    </tr>\n",
       "  </thead>\n",
       "  <tbody>\n",
       "    <tr>\n",
       "      <th>64</th>\n",
       "      <td>Hilton Belgrade</td>\n",
       "      <td>474</td>\n",
       "      <td>4</td>\n",
       "      <td>1400</td>\n",
       "      <td>9.4</td>\n",
       "      <td>3</td>\n",
       "      <td>55</td>\n",
       "      <td>Belgrade</td>\n",
       "    </tr>\n",
       "  </tbody>\n",
       "</table>\n",
       "</div>"
      ],
      "text/plain": [
       "          Hotel name  Price(BAM)  Hotel star rating  Distance  \\\n",
       "ID                                                              \n",
       "64  Hilton Belgrade          474                  4      1400   \n",
       "\n",
       "    Customer rating  Rooms  Squares      City  \n",
       "ID                                             \n",
       "64              9.4      3       55  Belgrade  "
      ]
     },
     "execution_count": 17,
     "metadata": {},
     "output_type": "execute_result"
    }
   ],
   "source": [
    "df.sort_values(\"Price(BAM)\", ascending = False).head(1)"
   ]
  },
  {
   "cell_type": "code",
   "execution_count": 18,
   "id": "8adf4003",
   "metadata": {},
   "outputs": [],
   "source": [
    "bg = df[(df[\"City\"] == \"Belgrade\") & (df[\"Hotel star rating\"] == 4) & (df[\"Price(BAM)\"] != 474)]"
   ]
  },
  {
   "cell_type": "markdown",
   "id": "71e0c995",
   "metadata": {},
   "source": [
    "We have found that the most expensive stay is in the city of Belgrade in 4 star hotel. Let's say that they gathered the data for the Belgrade city and 4 star hotels and they are questioning if they should lower their price of stay. We ask a question here if the sample of other Belgrade 4 star hotels differs from the price of the Hilton Belgrade hotel (474 BAM) significantly."
   ]
  },
  {
   "cell_type": "code",
   "execution_count": 19,
   "id": "aaa60157",
   "metadata": {},
   "outputs": [
    {
     "data": {
      "text/plain": [
       "Hotel name           15\n",
       "Price(BAM)           15\n",
       "Hotel star rating    15\n",
       "Distance             15\n",
       "Customer rating      15\n",
       "Rooms                15\n",
       "Squares              15\n",
       "City                 15\n",
       "dtype: int64"
      ]
     },
     "execution_count": 19,
     "metadata": {},
     "output_type": "execute_result"
    }
   ],
   "source": [
    "bg.count()"
   ]
  },
  {
   "cell_type": "markdown",
   "id": "12cd80f1",
   "metadata": {},
   "source": [
    "Since there are only 15 observation we will use Shapiro Wilk test of normality"
   ]
  },
  {
   "cell_type": "code",
   "execution_count": 20,
   "id": "4131bed1",
   "metadata": {},
   "outputs": [
    {
     "data": {
      "text/plain": [
       "ShapiroResult(statistic=0.9312921166419983, pvalue=0.2852596938610077)"
      ]
     },
     "execution_count": 20,
     "metadata": {},
     "output_type": "execute_result"
    }
   ],
   "source": [
    "stats.shapiro(bg[\"Price(BAM)\"])"
   ]
  },
  {
   "cell_type": "markdown",
   "id": "863c6851",
   "metadata": {},
   "source": [
    "P value is 0,29 and at the level of signfificance of 0,05 we accept null hypothesis and conclude that it is normal distribution. Because of that we will use one sample t test"
   ]
  },
  {
   "cell_type": "code",
   "execution_count": 21,
   "id": "cef9b8e8",
   "metadata": {},
   "outputs": [
    {
     "data": {
      "text/plain": [
       "Ttest_1sampResult(statistic=-1.5197541483192392, pvalue=0.15083112674337365)"
      ]
     },
     "execution_count": 21,
     "metadata": {},
     "output_type": "execute_result"
    }
   ],
   "source": [
    "stats.ttest_1samp(bg[\"Price(BAM)\"], popmean = 150)"
   ]
  },
  {
   "cell_type": "markdown",
   "id": "63da7f46",
   "metadata": {},
   "source": [
    "P value of test is 0 and we reject null hypothesis and conclude that average price of 4 star hotels in Belgrade significantly differ from 474 BAM"
   ]
  },
  {
   "cell_type": "markdown",
   "id": "af3bf6dc",
   "metadata": {},
   "source": [
    "#### Kruskal Wallis test"
   ]
  },
  {
   "cell_type": "markdown",
   "id": "c9fbf19c",
   "metadata": {},
   "source": [
    "Let's say we want now to test if avaerage price of stay differs significantly between the cities. We have 4 cities in out dataframe so that's 4 samples. We need to test every sample for normality test. Since there are 30 observations per city we'll use Shapiro Wilk test"
   ]
  },
  {
   "cell_type": "code",
   "execution_count": 23,
   "id": "5fc8ca46",
   "metadata": {},
   "outputs": [],
   "source": [
    "sa = df[df[\"City\"] == \"Sarajevo\"]\n",
    "bg = df[df[\"City\"] == \"Belgrade\"]\n",
    "zg = df[df[\"City\"] == \"Zagreb\"]\n",
    "lju = df[df[\"City\"] == \"Ljubljana\"]"
   ]
  },
  {
   "cell_type": "code",
   "execution_count": 28,
   "id": "9b900f6b",
   "metadata": {},
   "outputs": [
    {
     "data": {
      "text/plain": [
       "ShapiroResult(statistic=0.9374462366104126, pvalue=0.07764968276023865)"
      ]
     },
     "execution_count": 28,
     "metadata": {},
     "output_type": "execute_result"
    }
   ],
   "source": [
    "stats.shapiro(sa[\"Price(BAM)\"])"
   ]
  },
  {
   "cell_type": "code",
   "execution_count": 29,
   "id": "8ab86289",
   "metadata": {},
   "outputs": [
    {
     "data": {
      "text/plain": [
       "ShapiroResult(statistic=0.810200035572052, pvalue=0.00010115762415807694)"
      ]
     },
     "execution_count": 29,
     "metadata": {},
     "output_type": "execute_result"
    }
   ],
   "source": [
    "stats.shapiro(bg[\"Price(BAM)\"])"
   ]
  },
  {
   "cell_type": "markdown",
   "id": "11627ee0",
   "metadata": {},
   "source": [
    "Data for city Belgrade is not normally distributed. Because of that we will use non-parametric test Kruskal Wallis"
   ]
  },
  {
   "cell_type": "code",
   "execution_count": 32,
   "id": "04ada3c6",
   "metadata": {},
   "outputs": [
    {
     "data": {
      "text/plain": [
       "KruskalResult(statistic=3.4540965538957953, pvalue=0.3267646259024234)"
      ]
     },
     "execution_count": 32,
     "metadata": {},
     "output_type": "execute_result"
    }
   ],
   "source": [
    "stats.kruskal(sa[\"Price(BAM)\"], \n",
    "              bg[\"Price(BAM)\"], \n",
    "              zg[\"Price(BAM)\"], \n",
    "              lju[\"Price(BAM)\"])"
   ]
  },
  {
   "cell_type": "markdown",
   "id": "32b4c882",
   "metadata": {},
   "source": [
    "P value for Kruskal Wallis is 0,33 and at significance level of 0.05 we accept null hypothesis and conclude that there is no statistically significant difference between cities in variable Price(BAM)"
   ]
  }
 ],
 "metadata": {
  "kernelspec": {
   "display_name": "Python 3 (ipykernel)",
   "language": "python",
   "name": "python3"
  },
  "language_info": {
   "codemirror_mode": {
    "name": "ipython",
    "version": 3
   },
   "file_extension": ".py",
   "mimetype": "text/x-python",
   "name": "python",
   "nbconvert_exporter": "python",
   "pygments_lexer": "ipython3",
   "version": "3.8.13"
  }
 },
 "nbformat": 4,
 "nbformat_minor": 5
}
