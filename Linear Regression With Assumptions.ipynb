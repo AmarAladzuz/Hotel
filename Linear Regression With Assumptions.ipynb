{
 "cells": [
  {
   "cell_type": "code",
   "execution_count": 1,
   "metadata": {
    "execution": {
     "iopub.execute_input": "2021-03-15T22:49:04.807038Z",
     "iopub.status.busy": "2021-03-15T22:49:04.806304Z",
     "iopub.status.idle": "2021-03-15T22:49:18.813305Z",
     "shell.execute_reply": "2021-03-15T22:49:18.811778Z"
    },
    "papermill": {
     "duration": 14.037355,
     "end_time": "2021-03-15T22:49:18.813579",
     "exception": false,
     "start_time": "2021-03-15T22:49:04.776224",
     "status": "completed"
    },
    "tags": []
   },
   "outputs": [
    {
     "name": "stdout",
     "output_type": "stream",
     "text": [
      "Collecting openpyxl\r\n",
      "  Downloading openpyxl-3.0.7-py2.py3-none-any.whl (243 kB)\r\n",
      "\u001b[K     |████████████████████████████████| 243 kB 1.2 MB/s \r\n",
      "\u001b[?25hCollecting et-xmlfile\r\n",
      "  Downloading et_xmlfile-1.0.1.tar.gz (8.4 kB)\r\n",
      "Building wheels for collected packages: et-xmlfile\r\n",
      "  Building wheel for et-xmlfile (setup.py) ... \u001b[?25l-\b \b\\\b \bdone\r\n",
      "\u001b[?25h  Created wheel for et-xmlfile: filename=et_xmlfile-1.0.1-py3-none-any.whl size=8913 sha256=72438520ce3fb68974cfc5f25257058a844c6ad34bc39a58ebefe56517cb6ed1\r\n",
      "  Stored in directory: /root/.cache/pip/wheels/e2/bd/55/048b4fd505716c4c298f42ee02dffd9496bb6d212b266c7f31\r\n",
      "Successfully built et-xmlfile\r\n",
      "Installing collected packages: et-xmlfile, openpyxl\r\n",
      "Successfully installed et-xmlfile-1.0.1 openpyxl-3.0.7\r\n"
     ]
    }
   ],
   "source": [
    "!pip install openpyxl\n",
    "import pandas as pd\n",
    "import numpy as np\n",
    "%matplotlib inline\n",
    "import matplotlib.pyplot as plt\n",
    "import openpyxl\n",
    "import seaborn as sns\n",
    "import statsmodels.stats.diagnostic as dg\n",
    "import statsmodels.api as sm\n",
    "import statsmodels.stats.api as sms\n",
    "from statsmodels.stats.outliers_influence import variance_inflation_factor\n",
    "from statsmodels.compat import lzip"
   ]
  },
  {
   "cell_type": "markdown",
   "metadata": {
    "papermill": {
     "duration": 0.028129,
     "end_time": "2021-03-15T22:49:18.871920",
     "exception": false,
     "start_time": "2021-03-15T22:49:18.843791",
     "status": "completed"
    },
    "tags": []
   },
   "source": [
    "## Importing dataframe "
   ]
  },
  {
   "cell_type": "code",
   "execution_count": 2,
   "metadata": {
    "execution": {
     "iopub.execute_input": "2021-03-15T22:49:18.935939Z",
     "iopub.status.busy": "2021-03-15T22:49:18.935169Z",
     "iopub.status.idle": "2021-03-15T22:49:19.036210Z",
     "shell.execute_reply": "2021-03-15T22:49:19.035648Z"
    },
    "papermill": {
     "duration": 0.13568,
     "end_time": "2021-03-15T22:49:19.036387",
     "exception": false,
     "start_time": "2021-03-15T22:49:18.900707",
     "status": "completed"
    },
    "tags": []
   },
   "outputs": [
    {
     "data": {
      "text/html": [
       "<div>\n",
       "<style scoped>\n",
       "    .dataframe tbody tr th:only-of-type {\n",
       "        vertical-align: middle;\n",
       "    }\n",
       "\n",
       "    .dataframe tbody tr th {\n",
       "        vertical-align: top;\n",
       "    }\n",
       "\n",
       "    .dataframe thead th {\n",
       "        text-align: right;\n",
       "    }\n",
       "</style>\n",
       "<table border=\"1\" class=\"dataframe\">\n",
       "  <thead>\n",
       "    <tr style=\"text-align: right;\">\n",
       "      <th></th>\n",
       "      <th>ID</th>\n",
       "      <th>Hotel name</th>\n",
       "      <th>Price(BAM)</th>\n",
       "      <th>Hotel star rating</th>\n",
       "      <th>Distance</th>\n",
       "      <th>Customer rating</th>\n",
       "      <th>Rooms</th>\n",
       "      <th>Squares</th>\n",
       "      <th>City</th>\n",
       "    </tr>\n",
       "  </thead>\n",
       "  <tbody>\n",
       "    <tr>\n",
       "      <th>0</th>\n",
       "      <td>1</td>\n",
       "      <td>Europe</td>\n",
       "      <td>139</td>\n",
       "      <td>5</td>\n",
       "      <td>350</td>\n",
       "      <td>8.3</td>\n",
       "      <td>1</td>\n",
       "      <td>25</td>\n",
       "      <td>Sarajevo</td>\n",
       "    </tr>\n",
       "    <tr>\n",
       "      <th>1</th>\n",
       "      <td>2</td>\n",
       "      <td>Europe</td>\n",
       "      <td>187</td>\n",
       "      <td>5</td>\n",
       "      <td>350</td>\n",
       "      <td>8.3</td>\n",
       "      <td>2</td>\n",
       "      <td>40</td>\n",
       "      <td>Sarajevo</td>\n",
       "    </tr>\n",
       "  </tbody>\n",
       "</table>\n",
       "</div>"
      ],
      "text/plain": [
       "   ID Hotel name  Price(BAM)  Hotel star rating  Distance  Customer rating  \\\n",
       "0   1     Europe         139                  5       350              8.3   \n",
       "1   2     Europe         187                  5       350              8.3   \n",
       "\n",
       "   Rooms  Squares      City  \n",
       "0      1       25  Sarajevo  \n",
       "1      2       40  Sarajevo  "
      ]
     },
     "execution_count": 2,
     "metadata": {},
     "output_type": "execute_result"
    }
   ],
   "source": [
    "df = pd.read_excel(\"../input/hotels-accommodation-prices-dataset/Hotels.xlsx\")\n",
    "df.head(2)"
   ]
  },
  {
   "cell_type": "code",
   "execution_count": 3,
   "metadata": {
    "execution": {
     "iopub.execute_input": "2021-03-15T22:49:19.109889Z",
     "iopub.status.busy": "2021-03-15T22:49:19.109148Z",
     "iopub.status.idle": "2021-03-15T22:49:19.112710Z",
     "shell.execute_reply": "2021-03-15T22:49:19.113336Z"
    },
    "papermill": {
     "duration": 0.045931,
     "end_time": "2021-03-15T22:49:19.113519",
     "exception": false,
     "start_time": "2021-03-15T22:49:19.067588",
     "status": "completed"
    },
    "tags": []
   },
   "outputs": [
    {
     "data": {
      "text/html": [
       "<div>\n",
       "<style scoped>\n",
       "    .dataframe tbody tr th:only-of-type {\n",
       "        vertical-align: middle;\n",
       "    }\n",
       "\n",
       "    .dataframe tbody tr th {\n",
       "        vertical-align: top;\n",
       "    }\n",
       "\n",
       "    .dataframe thead th {\n",
       "        text-align: right;\n",
       "    }\n",
       "</style>\n",
       "<table border=\"1\" class=\"dataframe\">\n",
       "  <thead>\n",
       "    <tr style=\"text-align: right;\">\n",
       "      <th></th>\n",
       "      <th>Distance</th>\n",
       "      <th>Customer rating</th>\n",
       "      <th>Squares</th>\n",
       "    </tr>\n",
       "  </thead>\n",
       "  <tbody>\n",
       "    <tr>\n",
       "      <th>0</th>\n",
       "      <td>350</td>\n",
       "      <td>8.3</td>\n",
       "      <td>25</td>\n",
       "    </tr>\n",
       "    <tr>\n",
       "      <th>1</th>\n",
       "      <td>350</td>\n",
       "      <td>8.3</td>\n",
       "      <td>40</td>\n",
       "    </tr>\n",
       "  </tbody>\n",
       "</table>\n",
       "</div>"
      ],
      "text/plain": [
       "   Distance  Customer rating  Squares\n",
       "0       350              8.3       25\n",
       "1       350              8.3       40"
      ]
     },
     "execution_count": 3,
     "metadata": {},
     "output_type": "execute_result"
    }
   ],
   "source": [
    "values_lin = df[[\"Distance\", \"Customer rating\", \"Squares\"]]\n",
    "values_lin.head(2)"
   ]
  },
  {
   "cell_type": "code",
   "execution_count": 4,
   "metadata": {
    "execution": {
     "iopub.execute_input": "2021-03-15T22:49:19.186424Z",
     "iopub.status.busy": "2021-03-15T22:49:19.185648Z",
     "iopub.status.idle": "2021-03-15T22:49:19.190615Z",
     "shell.execute_reply": "2021-03-15T22:49:19.189937Z"
    },
    "papermill": {
     "duration": 0.04741,
     "end_time": "2021-03-15T22:49:19.190777",
     "exception": false,
     "start_time": "2021-03-15T22:49:19.143367",
     "status": "completed"
    },
    "tags": []
   },
   "outputs": [
    {
     "data": {
      "text/html": [
       "<div>\n",
       "<style scoped>\n",
       "    .dataframe tbody tr th:only-of-type {\n",
       "        vertical-align: middle;\n",
       "    }\n",
       "\n",
       "    .dataframe tbody tr th {\n",
       "        vertical-align: top;\n",
       "    }\n",
       "\n",
       "    .dataframe thead th {\n",
       "        text-align: right;\n",
       "    }\n",
       "</style>\n",
       "<table border=\"1\" class=\"dataframe\">\n",
       "  <thead>\n",
       "    <tr style=\"text-align: right;\">\n",
       "      <th></th>\n",
       "      <th>Distance</th>\n",
       "      <th>Customer rating</th>\n",
       "      <th>Squares</th>\n",
       "    </tr>\n",
       "  </thead>\n",
       "  <tbody>\n",
       "    <tr>\n",
       "      <th>0</th>\n",
       "      <td>5.857933</td>\n",
       "      <td>2.116256</td>\n",
       "      <td>3.218876</td>\n",
       "    </tr>\n",
       "    <tr>\n",
       "      <th>1</th>\n",
       "      <td>5.857933</td>\n",
       "      <td>2.116256</td>\n",
       "      <td>3.688879</td>\n",
       "    </tr>\n",
       "  </tbody>\n",
       "</table>\n",
       "</div>"
      ],
      "text/plain": [
       "   Distance  Customer rating   Squares\n",
       "0  5.857933         2.116256  3.218876\n",
       "1  5.857933         2.116256  3.688879"
      ]
     },
     "execution_count": 4,
     "metadata": {},
     "output_type": "execute_result"
    }
   ],
   "source": [
    "values_log = np.log(values_lin)\n",
    "values_log.head(2)"
   ]
  },
  {
   "cell_type": "code",
   "execution_count": 5,
   "metadata": {
    "execution": {
     "iopub.execute_input": "2021-03-15T22:49:19.267838Z",
     "iopub.status.busy": "2021-03-15T22:49:19.267091Z",
     "iopub.status.idle": "2021-03-15T22:49:19.289674Z",
     "shell.execute_reply": "2021-03-15T22:49:19.289059Z"
    },
    "papermill": {
     "duration": 0.065401,
     "end_time": "2021-03-15T22:49:19.289829",
     "exception": false,
     "start_time": "2021-03-15T22:49:19.224428",
     "status": "completed"
    },
    "tags": []
   },
   "outputs": [
    {
     "data": {
      "text/html": [
       "<div>\n",
       "<style scoped>\n",
       "    .dataframe tbody tr th:only-of-type {\n",
       "        vertical-align: middle;\n",
       "    }\n",
       "\n",
       "    .dataframe tbody tr th {\n",
       "        vertical-align: top;\n",
       "    }\n",
       "\n",
       "    .dataframe thead th {\n",
       "        text-align: right;\n",
       "    }\n",
       "</style>\n",
       "<table border=\"1\" class=\"dataframe\">\n",
       "  <thead>\n",
       "    <tr style=\"text-align: right;\">\n",
       "      <th></th>\n",
       "      <th>City_Belgrade</th>\n",
       "      <th>City_Ljubljana</th>\n",
       "      <th>City_Zagreb</th>\n",
       "      <th>Hotel star rating_3</th>\n",
       "      <th>Hotel star rating_4</th>\n",
       "      <th>Hotel star rating_5</th>\n",
       "      <th>Rooms_2</th>\n",
       "      <th>Rooms_3</th>\n",
       "      <th>Rooms_4</th>\n",
       "    </tr>\n",
       "  </thead>\n",
       "  <tbody>\n",
       "    <tr>\n",
       "      <th>0</th>\n",
       "      <td>0</td>\n",
       "      <td>0</td>\n",
       "      <td>0</td>\n",
       "      <td>0</td>\n",
       "      <td>0</td>\n",
       "      <td>1</td>\n",
       "      <td>0</td>\n",
       "      <td>0</td>\n",
       "      <td>0</td>\n",
       "    </tr>\n",
       "    <tr>\n",
       "      <th>1</th>\n",
       "      <td>0</td>\n",
       "      <td>0</td>\n",
       "      <td>0</td>\n",
       "      <td>0</td>\n",
       "      <td>0</td>\n",
       "      <td>1</td>\n",
       "      <td>1</td>\n",
       "      <td>0</td>\n",
       "      <td>0</td>\n",
       "    </tr>\n",
       "  </tbody>\n",
       "</table>\n",
       "</div>"
      ],
      "text/plain": [
       "   City_Belgrade  City_Ljubljana  City_Zagreb  Hotel star rating_3  \\\n",
       "0              0               0            0                    0   \n",
       "1              0               0            0                    0   \n",
       "\n",
       "   Hotel star rating_4  Hotel star rating_5  Rooms_2  Rooms_3  Rooms_4  \n",
       "0                    0                    1        0        0        0  \n",
       "1                    0                    1        1        0        0  "
      ]
     },
     "execution_count": 5,
     "metadata": {},
     "output_type": "execute_result"
    }
   ],
   "source": [
    "dummies = pd.get_dummies(df, columns = [\"City\", \"Hotel star rating\", \"Rooms\"]).drop(\n",
    "    columns = [\"ID\", \"Hotel name\", \"Price(BAM)\", \"City_Sarajevo\", \"Hotel star rating_2\", \n",
    "               \"Rooms_1\", \"Distance\", \"Customer rating\", \"Squares\"])\n",
    "\n",
    "dummies.head(2)"
   ]
  },
  {
   "cell_type": "markdown",
   "metadata": {
    "papermill": {
     "duration": 0.034902,
     "end_time": "2021-03-15T22:49:19.363739",
     "exception": false,
     "start_time": "2021-03-15T22:49:19.328837",
     "status": "completed"
    },
    "tags": []
   },
   "source": [
    "## Lin-lin model"
   ]
  },
  {
   "cell_type": "code",
   "execution_count": 6,
   "metadata": {
    "execution": {
     "iopub.execute_input": "2021-03-15T22:49:19.448202Z",
     "iopub.status.busy": "2021-03-15T22:49:19.447568Z",
     "iopub.status.idle": "2021-03-15T22:49:19.470511Z",
     "shell.execute_reply": "2021-03-15T22:49:19.471355Z"
    },
    "papermill": {
     "duration": 0.063695,
     "end_time": "2021-03-15T22:49:19.471634",
     "exception": false,
     "start_time": "2021-03-15T22:49:19.407939",
     "status": "completed"
    },
    "tags": []
   },
   "outputs": [
    {
     "data": {
      "text/html": [
       "<div>\n",
       "<style scoped>\n",
       "    .dataframe tbody tr th:only-of-type {\n",
       "        vertical-align: middle;\n",
       "    }\n",
       "\n",
       "    .dataframe tbody tr th {\n",
       "        vertical-align: top;\n",
       "    }\n",
       "\n",
       "    .dataframe thead th {\n",
       "        text-align: right;\n",
       "    }\n",
       "</style>\n",
       "<table border=\"1\" class=\"dataframe\">\n",
       "  <thead>\n",
       "    <tr style=\"text-align: right;\">\n",
       "      <th></th>\n",
       "      <th>Distance</th>\n",
       "      <th>Customer rating</th>\n",
       "      <th>Squares</th>\n",
       "      <th>City_Belgrade</th>\n",
       "      <th>City_Ljubljana</th>\n",
       "      <th>City_Zagreb</th>\n",
       "      <th>Hotel star rating_3</th>\n",
       "      <th>Hotel star rating_4</th>\n",
       "      <th>Hotel star rating_5</th>\n",
       "      <th>Rooms_2</th>\n",
       "      <th>Rooms_3</th>\n",
       "      <th>Rooms_4</th>\n",
       "    </tr>\n",
       "  </thead>\n",
       "  <tbody>\n",
       "    <tr>\n",
       "      <th>0</th>\n",
       "      <td>350</td>\n",
       "      <td>8.3</td>\n",
       "      <td>25</td>\n",
       "      <td>0</td>\n",
       "      <td>0</td>\n",
       "      <td>0</td>\n",
       "      <td>0</td>\n",
       "      <td>0</td>\n",
       "      <td>1</td>\n",
       "      <td>0</td>\n",
       "      <td>0</td>\n",
       "      <td>0</td>\n",
       "    </tr>\n",
       "    <tr>\n",
       "      <th>1</th>\n",
       "      <td>350</td>\n",
       "      <td>8.3</td>\n",
       "      <td>40</td>\n",
       "      <td>0</td>\n",
       "      <td>0</td>\n",
       "      <td>0</td>\n",
       "      <td>0</td>\n",
       "      <td>0</td>\n",
       "      <td>1</td>\n",
       "      <td>1</td>\n",
       "      <td>0</td>\n",
       "      <td>0</td>\n",
       "    </tr>\n",
       "    <tr>\n",
       "      <th>2</th>\n",
       "      <td>10000</td>\n",
       "      <td>8.5</td>\n",
       "      <td>42</td>\n",
       "      <td>0</td>\n",
       "      <td>0</td>\n",
       "      <td>0</td>\n",
       "      <td>0</td>\n",
       "      <td>0</td>\n",
       "      <td>1</td>\n",
       "      <td>0</td>\n",
       "      <td>1</td>\n",
       "      <td>0</td>\n",
       "    </tr>\n",
       "    <tr>\n",
       "      <th>3</th>\n",
       "      <td>10000</td>\n",
       "      <td>8.5</td>\n",
       "      <td>42</td>\n",
       "      <td>0</td>\n",
       "      <td>0</td>\n",
       "      <td>0</td>\n",
       "      <td>0</td>\n",
       "      <td>0</td>\n",
       "      <td>1</td>\n",
       "      <td>1</td>\n",
       "      <td>0</td>\n",
       "      <td>0</td>\n",
       "    </tr>\n",
       "    <tr>\n",
       "      <th>4</th>\n",
       "      <td>450</td>\n",
       "      <td>8.7</td>\n",
       "      <td>15</td>\n",
       "      <td>0</td>\n",
       "      <td>0</td>\n",
       "      <td>0</td>\n",
       "      <td>0</td>\n",
       "      <td>1</td>\n",
       "      <td>0</td>\n",
       "      <td>0</td>\n",
       "      <td>0</td>\n",
       "      <td>0</td>\n",
       "    </tr>\n",
       "  </tbody>\n",
       "</table>\n",
       "</div>"
      ],
      "text/plain": [
       "   Distance  Customer rating  Squares  City_Belgrade  City_Ljubljana  \\\n",
       "0       350              8.3       25              0               0   \n",
       "1       350              8.3       40              0               0   \n",
       "2     10000              8.5       42              0               0   \n",
       "3     10000              8.5       42              0               0   \n",
       "4       450              8.7       15              0               0   \n",
       "\n",
       "   City_Zagreb  Hotel star rating_3  Hotel star rating_4  Hotel star rating_5  \\\n",
       "0            0                    0                    0                    1   \n",
       "1            0                    0                    0                    1   \n",
       "2            0                    0                    0                    1   \n",
       "3            0                    0                    0                    1   \n",
       "4            0                    0                    1                    0   \n",
       "\n",
       "   Rooms_2  Rooms_3  Rooms_4  \n",
       "0        0        0        0  \n",
       "1        1        0        0  \n",
       "2        0        1        0  \n",
       "3        1        0        0  \n",
       "4        0        0        0  "
      ]
     },
     "execution_count": 6,
     "metadata": {},
     "output_type": "execute_result"
    }
   ],
   "source": [
    "y_lin = df[\"Price(BAM)\"]\n",
    "x_lin = pd.concat([values_lin, dummies], axis = 1)\n",
    "x_lin.head()"
   ]
  },
  {
   "cell_type": "code",
   "execution_count": 7,
   "metadata": {
    "execution": {
     "iopub.execute_input": "2021-03-15T22:49:19.552174Z",
     "iopub.status.busy": "2021-03-15T22:49:19.551184Z",
     "iopub.status.idle": "2021-03-15T22:49:19.587360Z",
     "shell.execute_reply": "2021-03-15T22:49:19.587942Z"
    },
    "papermill": {
     "duration": 0.08083,
     "end_time": "2021-03-15T22:49:19.588143",
     "exception": false,
     "start_time": "2021-03-15T22:49:19.507313",
     "status": "completed"
    },
    "tags": []
   },
   "outputs": [
    {
     "name": "stdout",
     "output_type": "stream",
     "text": [
      "                            OLS Regression Results                            \n",
      "==============================================================================\n",
      "Dep. Variable:             Price(BAM)   R-squared:                       0.618\n",
      "Model:                            OLS   Adj. R-squared:                  0.575\n",
      "Method:                 Least Squares   F-statistic:                     14.43\n",
      "Date:                Mon, 15 Mar 2021   Prob (F-statistic):           2.00e-17\n",
      "Time:                        22:49:19   Log-Likelihood:                -637.04\n",
      "No. Observations:                 120   AIC:                             1300.\n",
      "Df Residuals:                     107   BIC:                             1336.\n",
      "Df Model:                          12                                         \n",
      "Covariance Type:            nonrobust                                         \n",
      "=======================================================================================\n",
      "                          coef    std err          t      P>|t|      [0.025      0.975]\n",
      "---------------------------------------------------------------------------------------\n",
      "const                -102.8818     85.026     -1.210      0.229    -271.436      65.672\n",
      "Distance               -0.0037      0.002     -1.706      0.091      -0.008       0.001\n",
      "Customer rating        16.3139     11.159      1.462      0.147      -5.808      38.436\n",
      "Squares                 3.2306      0.627      5.152      0.000       1.987       4.474\n",
      "City_Belgrade          10.2132     14.270      0.716      0.476     -18.076      38.502\n",
      "City_Ljubljana         25.0746     14.884      1.685      0.095      -4.431      54.581\n",
      "City_Zagreb            28.9386     13.891      2.083      0.040       1.402      56.475\n",
      "Hotel star rating_3   -29.1467     24.159     -1.206      0.230     -77.040      18.747\n",
      "Hotel star rating_4     2.0618     26.607      0.077      0.938     -50.683      54.806\n",
      "Hotel star rating_5    57.8220     31.097      1.859      0.066      -3.825     119.469\n",
      "Rooms_2                17.9447     11.258      1.594      0.114      -4.373      40.262\n",
      "Rooms_3                51.9379     15.607      3.328      0.001      20.998      82.878\n",
      "Rooms_4                59.3622     22.142      2.681      0.009      15.469     103.256\n",
      "==============================================================================\n",
      "Omnibus:                       45.505   Durbin-Watson:                   1.557\n",
      "Prob(Omnibus):                  0.000   Jarque-Bera (JB):              168.401\n",
      "Skew:                           1.284   Prob(JB):                     2.70e-37\n",
      "Kurtosis:                       8.204   Cond. No.                     6.31e+04\n",
      "==============================================================================\n",
      "\n",
      "Notes:\n",
      "[1] Standard Errors assume that the covariance matrix of the errors is correctly specified.\n",
      "[2] The condition number is large, 6.31e+04. This might indicate that there are\n",
      "strong multicollinearity or other numerical problems.\n"
     ]
    }
   ],
   "source": [
    "x_lin = sm.add_constant(x_lin)\n",
    "model_linlin = sm.OLS(y_lin, x_lin)\n",
    "results = model_linlin.fit()\n",
    "print(results.summary())"
   ]
  },
  {
   "cell_type": "markdown",
   "metadata": {
    "papermill": {
     "duration": 0.03637,
     "end_time": "2021-03-15T22:49:19.659636",
     "exception": false,
     "start_time": "2021-03-15T22:49:19.623266",
     "status": "completed"
    },
    "tags": []
   },
   "source": [
    "### Ramsey RESET test for lin-lin model"
   ]
  },
  {
   "cell_type": "code",
   "execution_count": 8,
   "metadata": {
    "execution": {
     "iopub.execute_input": "2021-03-15T22:49:19.743458Z",
     "iopub.status.busy": "2021-03-15T22:49:19.742424Z",
     "iopub.status.idle": "2021-03-15T22:49:19.761408Z",
     "shell.execute_reply": "2021-03-15T22:49:19.760802Z"
    },
    "papermill": {
     "duration": 0.057084,
     "end_time": "2021-03-15T22:49:19.761573",
     "exception": false,
     "start_time": "2021-03-15T22:49:19.704489",
     "status": "completed"
    },
    "tags": []
   },
   "outputs": [
    {
     "name": "stdout",
     "output_type": "stream",
     "text": [
      "Ramsey RESET test \n",
      " \n",
      "F Statistic:  [[9.3847]]\n",
      "P Value:  0.0\n"
     ]
    },
    {
     "name": "stderr",
     "output_type": "stream",
     "text": [
      "/opt/conda/lib/python3.7/site-packages/statsmodels/stats/diagnostic.py:1263: FutureWarning: Support for multi-dimensional indexing (e.g. `obj[:, None]`) is deprecated and will be removed in a future version.  Convert to a numpy array before indexing instead.\n",
      "  aug = res.fittedvalues[:, None]\n"
     ]
    }
   ],
   "source": [
    "reset = dg.linear_reset(results, power = 4, test_type = 'fitted', use_f = True, )\n",
    "print(\"Ramsey RESET test \\n \")\n",
    "print(\"F Statistic: \", np.round(reset.fvalue, 4))\n",
    "print(\"P Value: \", np.round(reset.pvalue, 4))"
   ]
  },
  {
   "cell_type": "markdown",
   "metadata": {
    "papermill": {
     "duration": 0.032984,
     "end_time": "2021-03-15T22:49:19.828197",
     "exception": false,
     "start_time": "2021-03-15T22:49:19.795213",
     "status": "completed"
    },
    "tags": []
   },
   "source": [
    "P value is 0.0000. We reject null hypothesis and conclude that our model is not well specified. We drop this model from further analysis."
   ]
  },
  {
   "cell_type": "markdown",
   "metadata": {
    "papermill": {
     "duration": 0.033324,
     "end_time": "2021-03-15T22:49:19.894868",
     "exception": false,
     "start_time": "2021-03-15T22:49:19.861544",
     "status": "completed"
    },
    "tags": []
   },
   "source": [
    "## Log-log model"
   ]
  },
  {
   "cell_type": "code",
   "execution_count": 9,
   "metadata": {
    "execution": {
     "iopub.execute_input": "2021-03-15T22:49:19.981165Z",
     "iopub.status.busy": "2021-03-15T22:49:19.980159Z",
     "iopub.status.idle": "2021-03-15T22:49:19.984124Z",
     "shell.execute_reply": "2021-03-15T22:49:19.984666Z"
    },
    "papermill": {
     "duration": 0.05583,
     "end_time": "2021-03-15T22:49:19.984849",
     "exception": false,
     "start_time": "2021-03-15T22:49:19.929019",
     "status": "completed"
    },
    "tags": []
   },
   "outputs": [
    {
     "data": {
      "text/html": [
       "<div>\n",
       "<style scoped>\n",
       "    .dataframe tbody tr th:only-of-type {\n",
       "        vertical-align: middle;\n",
       "    }\n",
       "\n",
       "    .dataframe tbody tr th {\n",
       "        vertical-align: top;\n",
       "    }\n",
       "\n",
       "    .dataframe thead th {\n",
       "        text-align: right;\n",
       "    }\n",
       "</style>\n",
       "<table border=\"1\" class=\"dataframe\">\n",
       "  <thead>\n",
       "    <tr style=\"text-align: right;\">\n",
       "      <th></th>\n",
       "      <th>Distance</th>\n",
       "      <th>Customer rating</th>\n",
       "      <th>Squares</th>\n",
       "      <th>City_Belgrade</th>\n",
       "      <th>City_Ljubljana</th>\n",
       "      <th>City_Zagreb</th>\n",
       "      <th>Hotel star rating_3</th>\n",
       "      <th>Hotel star rating_4</th>\n",
       "      <th>Hotel star rating_5</th>\n",
       "      <th>Rooms_2</th>\n",
       "      <th>Rooms_3</th>\n",
       "      <th>Rooms_4</th>\n",
       "    </tr>\n",
       "  </thead>\n",
       "  <tbody>\n",
       "    <tr>\n",
       "      <th>0</th>\n",
       "      <td>5.857933</td>\n",
       "      <td>2.116256</td>\n",
       "      <td>3.218876</td>\n",
       "      <td>0</td>\n",
       "      <td>0</td>\n",
       "      <td>0</td>\n",
       "      <td>0</td>\n",
       "      <td>0</td>\n",
       "      <td>1</td>\n",
       "      <td>0</td>\n",
       "      <td>0</td>\n",
       "      <td>0</td>\n",
       "    </tr>\n",
       "    <tr>\n",
       "      <th>1</th>\n",
       "      <td>5.857933</td>\n",
       "      <td>2.116256</td>\n",
       "      <td>3.688879</td>\n",
       "      <td>0</td>\n",
       "      <td>0</td>\n",
       "      <td>0</td>\n",
       "      <td>0</td>\n",
       "      <td>0</td>\n",
       "      <td>1</td>\n",
       "      <td>1</td>\n",
       "      <td>0</td>\n",
       "      <td>0</td>\n",
       "    </tr>\n",
       "    <tr>\n",
       "      <th>2</th>\n",
       "      <td>9.210340</td>\n",
       "      <td>2.140066</td>\n",
       "      <td>3.737670</td>\n",
       "      <td>0</td>\n",
       "      <td>0</td>\n",
       "      <td>0</td>\n",
       "      <td>0</td>\n",
       "      <td>0</td>\n",
       "      <td>1</td>\n",
       "      <td>0</td>\n",
       "      <td>1</td>\n",
       "      <td>0</td>\n",
       "    </tr>\n",
       "    <tr>\n",
       "      <th>3</th>\n",
       "      <td>9.210340</td>\n",
       "      <td>2.140066</td>\n",
       "      <td>3.737670</td>\n",
       "      <td>0</td>\n",
       "      <td>0</td>\n",
       "      <td>0</td>\n",
       "      <td>0</td>\n",
       "      <td>0</td>\n",
       "      <td>1</td>\n",
       "      <td>1</td>\n",
       "      <td>0</td>\n",
       "      <td>0</td>\n",
       "    </tr>\n",
       "    <tr>\n",
       "      <th>4</th>\n",
       "      <td>6.109248</td>\n",
       "      <td>2.163323</td>\n",
       "      <td>2.708050</td>\n",
       "      <td>0</td>\n",
       "      <td>0</td>\n",
       "      <td>0</td>\n",
       "      <td>0</td>\n",
       "      <td>1</td>\n",
       "      <td>0</td>\n",
       "      <td>0</td>\n",
       "      <td>0</td>\n",
       "      <td>0</td>\n",
       "    </tr>\n",
       "  </tbody>\n",
       "</table>\n",
       "</div>"
      ],
      "text/plain": [
       "   Distance  Customer rating   Squares  City_Belgrade  City_Ljubljana  \\\n",
       "0  5.857933         2.116256  3.218876              0               0   \n",
       "1  5.857933         2.116256  3.688879              0               0   \n",
       "2  9.210340         2.140066  3.737670              0               0   \n",
       "3  9.210340         2.140066  3.737670              0               0   \n",
       "4  6.109248         2.163323  2.708050              0               0   \n",
       "\n",
       "   City_Zagreb  Hotel star rating_3  Hotel star rating_4  Hotel star rating_5  \\\n",
       "0            0                    0                    0                    1   \n",
       "1            0                    0                    0                    1   \n",
       "2            0                    0                    0                    1   \n",
       "3            0                    0                    0                    1   \n",
       "4            0                    0                    1                    0   \n",
       "\n",
       "   Rooms_2  Rooms_3  Rooms_4  \n",
       "0        0        0        0  \n",
       "1        1        0        0  \n",
       "2        0        1        0  \n",
       "3        1        0        0  \n",
       "4        0        0        0  "
      ]
     },
     "execution_count": 9,
     "metadata": {},
     "output_type": "execute_result"
    }
   ],
   "source": [
    "y_log = np.log(df[\"Price(BAM)\"])\n",
    "x_log = pd.concat([values_log, dummies], axis = 1)\n",
    "\n",
    "x_log.head()"
   ]
  },
  {
   "cell_type": "code",
   "execution_count": 10,
   "metadata": {
    "execution": {
     "iopub.execute_input": "2021-03-15T22:49:20.058196Z",
     "iopub.status.busy": "2021-03-15T22:49:20.057121Z",
     "iopub.status.idle": "2021-03-15T22:49:20.080119Z",
     "shell.execute_reply": "2021-03-15T22:49:20.080647Z"
    },
    "papermill": {
     "duration": 0.061395,
     "end_time": "2021-03-15T22:49:20.080837",
     "exception": false,
     "start_time": "2021-03-15T22:49:20.019442",
     "status": "completed"
    },
    "tags": []
   },
   "outputs": [
    {
     "name": "stdout",
     "output_type": "stream",
     "text": [
      "                            OLS Regression Results                            \n",
      "==============================================================================\n",
      "Dep. Variable:             Price(BAM)   R-squared:                       0.658\n",
      "Model:                            OLS   Adj. R-squared:                  0.619\n",
      "Method:                 Least Squares   F-statistic:                     17.13\n",
      "Date:                Mon, 15 Mar 2021   Prob (F-statistic):           7.65e-20\n",
      "Time:                        22:49:20   Log-Likelihood:                -17.554\n",
      "No. Observations:                 120   AIC:                             61.11\n",
      "Df Residuals:                     107   BIC:                             97.35\n",
      "Df Model:                          12                                         \n",
      "Covariance Type:            nonrobust                                         \n",
      "=======================================================================================\n",
      "                          coef    std err          t      P>|t|      [0.025      0.975]\n",
      "---------------------------------------------------------------------------------------\n",
      "const                   1.2567      1.133      1.109      0.270      -0.990       3.504\n",
      "Distance               -0.0343      0.027     -1.292      0.199      -0.087       0.018\n",
      "Customer rating         1.0122      0.537      1.884      0.062      -0.053       2.077\n",
      "Squares                 0.4351      0.104      4.181      0.000       0.229       0.641\n",
      "City_Belgrade          -0.0505      0.083     -0.608      0.545      -0.215       0.114\n",
      "City_Ljubljana          0.1564      0.087      1.790      0.076      -0.017       0.330\n",
      "City_Zagreb             0.2350      0.080      2.924      0.004       0.076       0.394\n",
      "Hotel star rating_3    -0.1100      0.143     -0.769      0.444      -0.394       0.174\n",
      "Hotel star rating_4     0.1284      0.159      0.805      0.422      -0.188       0.444\n",
      "Hotel star rating_5     0.4461      0.186      2.399      0.018       0.077       0.815\n",
      "Rooms_2                 0.1466      0.065      2.268      0.025       0.018       0.275\n",
      "Rooms_3                 0.3589      0.091      3.941      0.000       0.178       0.540\n",
      "Rooms_4                 0.4105      0.127      3.228      0.002       0.158       0.663\n",
      "==============================================================================\n",
      "Omnibus:                        3.636   Durbin-Watson:                   1.387\n",
      "Prob(Omnibus):                  0.162   Jarque-Bera (JB):                3.051\n",
      "Skew:                          -0.321   Prob(JB):                        0.217\n",
      "Kurtosis:                       3.444   Cond. No.                         386.\n",
      "==============================================================================\n",
      "\n",
      "Notes:\n",
      "[1] Standard Errors assume that the covariance matrix of the errors is correctly specified.\n"
     ]
    }
   ],
   "source": [
    "x_log = sm.add_constant(x_log)\n",
    "model_loglog = sm.OLS(y_log, x_log)\n",
    "results = model_loglog.fit()\n",
    "print(results.summary())"
   ]
  },
  {
   "cell_type": "markdown",
   "metadata": {
    "papermill": {
     "duration": 0.038832,
     "end_time": "2021-03-15T22:49:20.155546",
     "exception": false,
     "start_time": "2021-03-15T22:49:20.116714",
     "status": "completed"
    },
    "tags": []
   },
   "source": [
    "### Ramsey RESET test for log-log model"
   ]
  },
  {
   "cell_type": "code",
   "execution_count": 11,
   "metadata": {
    "execution": {
     "iopub.execute_input": "2021-03-15T22:49:20.229977Z",
     "iopub.status.busy": "2021-03-15T22:49:20.228920Z",
     "iopub.status.idle": "2021-03-15T22:49:20.242109Z",
     "shell.execute_reply": "2021-03-15T22:49:20.241564Z"
    },
    "papermill": {
     "duration": 0.051152,
     "end_time": "2021-03-15T22:49:20.242267",
     "exception": false,
     "start_time": "2021-03-15T22:49:20.191115",
     "status": "completed"
    },
    "tags": []
   },
   "outputs": [
    {
     "name": "stdout",
     "output_type": "stream",
     "text": [
      "Ramsey RESET test \n",
      " \n",
      "F Statistic:  [[0.3674]]\n",
      "P Value:  0.7767\n"
     ]
    },
    {
     "name": "stderr",
     "output_type": "stream",
     "text": [
      "/opt/conda/lib/python3.7/site-packages/statsmodels/stats/diagnostic.py:1263: FutureWarning: Support for multi-dimensional indexing (e.g. `obj[:, None]`) is deprecated and will be removed in a future version.  Convert to a numpy array before indexing instead.\n",
      "  aug = res.fittedvalues[:, None]\n"
     ]
    }
   ],
   "source": [
    "reset = dg.linear_reset(results, power = 4, test_type = 'fitted', use_f = True, )\n",
    "print(\"Ramsey RESET test \\n \")\n",
    "print(\"F Statistic: \", np.round(reset.fvalue, 4))\n",
    "print(\"P Value: \", np.round(reset.pvalue, 4))"
   ]
  },
  {
   "cell_type": "markdown",
   "metadata": {
    "papermill": {
     "duration": 0.034464,
     "end_time": "2021-03-15T22:49:20.311489",
     "exception": false,
     "start_time": "2021-03-15T22:49:20.277025",
     "status": "completed"
    },
    "tags": []
   },
   "source": [
    "P value is 0.7767. We accept null hypothesis and conclude that our model is well specified. "
   ]
  },
  {
   "cell_type": "markdown",
   "metadata": {
    "papermill": {
     "duration": 0.035768,
     "end_time": "2021-03-15T22:49:20.383735",
     "exception": false,
     "start_time": "2021-03-15T22:49:20.347967",
     "status": "completed"
    },
    "tags": []
   },
   "source": [
    "## Log-lin model"
   ]
  },
  {
   "cell_type": "code",
   "execution_count": 12,
   "metadata": {
    "execution": {
     "iopub.execute_input": "2021-03-15T22:49:20.460584Z",
     "iopub.status.busy": "2021-03-15T22:49:20.459899Z",
     "iopub.status.idle": "2021-03-15T22:49:20.501405Z",
     "shell.execute_reply": "2021-03-15T22:49:20.500801Z"
    },
    "papermill": {
     "duration": 0.083063,
     "end_time": "2021-03-15T22:49:20.501552",
     "exception": false,
     "start_time": "2021-03-15T22:49:20.418489",
     "status": "completed"
    },
    "tags": []
   },
   "outputs": [
    {
     "name": "stdout",
     "output_type": "stream",
     "text": [
      "                            OLS Regression Results                            \n",
      "==============================================================================\n",
      "Dep. Variable:             Price(BAM)   R-squared:                       0.688\n",
      "Model:                            OLS   Adj. R-squared:                  0.653\n",
      "Method:                 Least Squares   F-statistic:                     19.63\n",
      "Date:                Mon, 15 Mar 2021   Prob (F-statistic):           7.07e-22\n",
      "Time:                        22:49:20   Log-Likelihood:                -12.059\n",
      "No. Observations:                 120   AIC:                             50.12\n",
      "Df Residuals:                     107   BIC:                             86.35\n",
      "Df Model:                          12                                         \n",
      "Covariance Type:            nonrobust                                         \n",
      "=======================================================================================\n",
      "                          coef    std err          t      P>|t|      [0.025      0.975]\n",
      "---------------------------------------------------------------------------------------\n",
      "const                   2.9534      0.465      6.348      0.000       2.031       3.876\n",
      "Distance            -1.805e-05    1.2e-05     -1.508      0.135   -4.18e-05    5.68e-06\n",
      "Customer rating         0.1363      0.061      2.232      0.028       0.015       0.257\n",
      "Squares                 0.0184      0.003      5.356      0.000       0.012       0.025\n",
      "City_Belgrade          -0.0407      0.078     -0.521      0.603      -0.195       0.114\n",
      "City_Ljubljana          0.1626      0.081      1.996      0.048       0.001       0.324\n",
      "City_Zagreb             0.2580      0.076      3.394      0.001       0.107       0.409\n",
      "Hotel star rating_3    -0.1053      0.132     -0.797      0.427      -0.367       0.157\n",
      "Hotel star rating_4     0.1338      0.146      0.919      0.360      -0.155       0.422\n",
      "Hotel star rating_5     0.4388      0.170      2.579      0.011       0.102       0.776\n",
      "Rooms_2                 0.1467      0.062      2.381      0.019       0.025       0.269\n",
      "Rooms_3                 0.3566      0.085      4.176      0.000       0.187       0.526\n",
      "Rooms_4                 0.3493      0.121      2.883      0.005       0.109       0.589\n",
      "==============================================================================\n",
      "Omnibus:                        4.663   Durbin-Watson:                   1.367\n",
      "Prob(Omnibus):                  0.097   Jarque-Bera (JB):                4.077\n",
      "Skew:                          -0.417   Prob(JB):                        0.130\n",
      "Kurtosis:                       3.347   Cond. No.                     6.31e+04\n",
      "==============================================================================\n",
      "\n",
      "Notes:\n",
      "[1] Standard Errors assume that the covariance matrix of the errors is correctly specified.\n",
      "[2] The condition number is large, 6.31e+04. This might indicate that there are\n",
      "strong multicollinearity or other numerical problems.\n"
     ]
    }
   ],
   "source": [
    "x_lin = sm.add_constant(x_lin)\n",
    "model_loglin = sm.OLS(y_log, x_lin)\n",
    "results = model_loglin.fit()\n",
    "print(results.summary())"
   ]
  },
  {
   "cell_type": "markdown",
   "metadata": {
    "papermill": {
     "duration": 0.035838,
     "end_time": "2021-03-15T22:49:20.574066",
     "exception": false,
     "start_time": "2021-03-15T22:49:20.538228",
     "status": "completed"
    },
    "tags": []
   },
   "source": [
    "### Ramsey RESET test for log-lin model"
   ]
  },
  {
   "cell_type": "code",
   "execution_count": 13,
   "metadata": {
    "execution": {
     "iopub.execute_input": "2021-03-15T22:49:20.650136Z",
     "iopub.status.busy": "2021-03-15T22:49:20.649500Z",
     "iopub.status.idle": "2021-03-15T22:49:20.659552Z",
     "shell.execute_reply": "2021-03-15T22:49:20.660126Z"
    },
    "papermill": {
     "duration": 0.049912,
     "end_time": "2021-03-15T22:49:20.660347",
     "exception": false,
     "start_time": "2021-03-15T22:49:20.610435",
     "status": "completed"
    },
    "tags": []
   },
   "outputs": [
    {
     "name": "stdout",
     "output_type": "stream",
     "text": [
      "Ramsey RESET test \n",
      " \n",
      "F Statistic:  [[0.1769]]\n",
      "P Value:  0.9118\n"
     ]
    },
    {
     "name": "stderr",
     "output_type": "stream",
     "text": [
      "/opt/conda/lib/python3.7/site-packages/statsmodels/stats/diagnostic.py:1263: FutureWarning: Support for multi-dimensional indexing (e.g. `obj[:, None]`) is deprecated and will be removed in a future version.  Convert to a numpy array before indexing instead.\n",
      "  aug = res.fittedvalues[:, None]\n"
     ]
    }
   ],
   "source": [
    "reset = dg.linear_reset(results, power = 4, test_type = 'fitted', use_f = True, )\n",
    "print(\"Ramsey RESET test \\n \")\n",
    "print(\"F Statistic: \", np.round(reset.fvalue, 4))\n",
    "print(\"P Value: \", np.round(reset.pvalue, 4))"
   ]
  },
  {
   "cell_type": "markdown",
   "metadata": {
    "papermill": {
     "duration": 0.03664,
     "end_time": "2021-03-15T22:49:20.733133",
     "exception": false,
     "start_time": "2021-03-15T22:49:20.696493",
     "status": "completed"
    },
    "tags": []
   },
   "source": [
    "P value is 0.9118. We accept null hypothesis and conclude that our model is well specified. W"
   ]
  },
  {
   "cell_type": "markdown",
   "metadata": {
    "papermill": {
     "duration": 0.036725,
     "end_time": "2021-03-15T22:49:20.806962",
     "exception": false,
     "start_time": "2021-03-15T22:49:20.770237",
     "status": "completed"
    },
    "tags": []
   },
   "source": [
    "## Lin-log model"
   ]
  },
  {
   "cell_type": "code",
   "execution_count": 14,
   "metadata": {
    "execution": {
     "iopub.execute_input": "2021-03-15T22:49:20.885240Z",
     "iopub.status.busy": "2021-03-15T22:49:20.884485Z",
     "iopub.status.idle": "2021-03-15T22:49:20.906716Z",
     "shell.execute_reply": "2021-03-15T22:49:20.907302Z"
    },
    "papermill": {
     "duration": 0.063355,
     "end_time": "2021-03-15T22:49:20.907519",
     "exception": false,
     "start_time": "2021-03-15T22:49:20.844164",
     "status": "completed"
    },
    "tags": []
   },
   "outputs": [
    {
     "name": "stdout",
     "output_type": "stream",
     "text": [
      "                            OLS Regression Results                            \n",
      "==============================================================================\n",
      "Dep. Variable:             Price(BAM)   R-squared:                       0.570\n",
      "Model:                            OLS   Adj. R-squared:                  0.521\n",
      "Method:                 Least Squares   F-statistic:                     11.80\n",
      "Date:                Mon, 15 Mar 2021   Prob (F-statistic):           7.93e-15\n",
      "Time:                        22:49:20   Log-Likelihood:                -644.19\n",
      "No. Observations:                 120   AIC:                             1314.\n",
      "Df Residuals:                     107   BIC:                             1351.\n",
      "Df Model:                          12                                         \n",
      "Covariance Type:            nonrobust                                         \n",
      "=======================================================================================\n",
      "                          coef    std err          t      P>|t|      [0.025      0.975]\n",
      "---------------------------------------------------------------------------------------\n",
      "const                -292.9488    210.030     -1.395      0.166    -709.308     123.410\n",
      "Distance               -7.0229      4.917     -1.428      0.156     -16.769       2.724\n",
      "Customer rating       108.2532     99.543      1.087      0.279     -89.080     305.586\n",
      "Squares                68.0969     19.285      3.531      0.001      29.868     106.326\n",
      "City_Belgrade          10.4155     15.388      0.677      0.500     -20.088      40.919\n",
      "City_Ljubljana         27.0375     16.192      1.670      0.098      -5.061      59.136\n",
      "City_Zagreb            26.1520     14.893      1.756      0.082      -3.371      55.675\n",
      "Hotel star rating_3   -24.7167     26.512     -0.932      0.353     -77.274      27.840\n",
      "Hotel star rating_4     7.8711     29.540      0.266      0.790     -50.689      66.432\n",
      "Hotel star rating_5    68.3131     34.455      1.983      0.050       0.010     136.616\n",
      "Rooms_2                18.6826     11.980      1.560      0.122      -5.066      42.431\n",
      "Rooms_3                55.3292     16.879      3.278      0.001      21.869      88.789\n",
      "Rooms_4                75.9367     23.569      3.222      0.002      29.214     122.659\n",
      "==============================================================================\n",
      "Omnibus:                       51.071   Durbin-Watson:                   1.595\n",
      "Prob(Omnibus):                  0.000   Jarque-Bera (JB):              206.509\n",
      "Skew:                           1.432   Prob(JB):                     1.44e-45\n",
      "Kurtosis:                       8.753   Cond. No.                         386.\n",
      "==============================================================================\n",
      "\n",
      "Notes:\n",
      "[1] Standard Errors assume that the covariance matrix of the errors is correctly specified.\n"
     ]
    }
   ],
   "source": [
    "x_log = sm.add_constant(x_log)\n",
    "model_linlog = sm.OLS(y_lin, x_log)\n",
    "results = model_linlog.fit()\n",
    "print(results.summary())"
   ]
  },
  {
   "cell_type": "markdown",
   "metadata": {
    "papermill": {
     "duration": 0.037169,
     "end_time": "2021-03-15T22:49:20.981899",
     "exception": false,
     "start_time": "2021-03-15T22:49:20.944730",
     "status": "completed"
    },
    "tags": []
   },
   "source": [
    "### Ramsey RESET test for lin-log model"
   ]
  },
  {
   "cell_type": "code",
   "execution_count": 15,
   "metadata": {
    "execution": {
     "iopub.execute_input": "2021-03-15T22:49:21.062417Z",
     "iopub.status.busy": "2021-03-15T22:49:21.061682Z",
     "iopub.status.idle": "2021-03-15T22:49:21.072024Z",
     "shell.execute_reply": "2021-03-15T22:49:21.072573Z"
    },
    "papermill": {
     "duration": 0.053302,
     "end_time": "2021-03-15T22:49:21.072785",
     "exception": false,
     "start_time": "2021-03-15T22:49:21.019483",
     "status": "completed"
    },
    "tags": []
   },
   "outputs": [
    {
     "name": "stdout",
     "output_type": "stream",
     "text": [
      "Ramsey RESET test \n",
      " \n",
      "F Statistic:  [[7.6355]]\n",
      "P Value:  0.0001\n"
     ]
    },
    {
     "name": "stderr",
     "output_type": "stream",
     "text": [
      "/opt/conda/lib/python3.7/site-packages/statsmodels/stats/diagnostic.py:1263: FutureWarning: Support for multi-dimensional indexing (e.g. `obj[:, None]`) is deprecated and will be removed in a future version.  Convert to a numpy array before indexing instead.\n",
      "  aug = res.fittedvalues[:, None]\n"
     ]
    }
   ],
   "source": [
    "reset = dg.linear_reset(results, power = 4, test_type = 'fitted', use_f = True, )\n",
    "print(\"Ramsey RESET test \\n \")\n",
    "print(\"F Statistic: \", np.round(reset.fvalue, 4))\n",
    "print(\"P Value: \", np.round(reset.pvalue, 4))"
   ]
  },
  {
   "cell_type": "markdown",
   "metadata": {
    "papermill": {
     "duration": 0.038158,
     "end_time": "2021-03-15T22:49:21.149871",
     "exception": false,
     "start_time": "2021-03-15T22:49:21.111713",
     "status": "completed"
    },
    "tags": []
   },
   "source": [
    "P value is 0.0001. We reject null hypothesis and conclude that our model is not well specified. We drop this model from further analysis."
   ]
  },
  {
   "cell_type": "markdown",
   "metadata": {
    "papermill": {
     "duration": 0.038069,
     "end_time": "2021-03-15T22:49:21.226182",
     "exception": false,
     "start_time": "2021-03-15T22:49:21.188113",
     "status": "completed"
    },
    "tags": []
   },
   "source": [
    "#### Log-log and log-lin models are well specified. R squared is higher in log-lin model and has more statistically significant varibales at significance level of 0.05. Because of that I will test log-lin model on other assumptions of linear regression."
   ]
  },
  {
   "cell_type": "code",
   "execution_count": 16,
   "metadata": {
    "execution": {
     "iopub.execute_input": "2021-03-15T22:49:21.305584Z",
     "iopub.status.busy": "2021-03-15T22:49:21.304802Z",
     "iopub.status.idle": "2021-03-15T22:49:21.327671Z",
     "shell.execute_reply": "2021-03-15T22:49:21.328738Z"
    },
    "papermill": {
     "duration": 0.065126,
     "end_time": "2021-03-15T22:49:21.329114",
     "exception": false,
     "start_time": "2021-03-15T22:49:21.263988",
     "status": "completed"
    },
    "tags": []
   },
   "outputs": [
    {
     "name": "stdout",
     "output_type": "stream",
     "text": [
      "                            OLS Regression Results                            \n",
      "==============================================================================\n",
      "Dep. Variable:             Price(BAM)   R-squared:                       0.688\n",
      "Model:                            OLS   Adj. R-squared:                  0.653\n",
      "Method:                 Least Squares   F-statistic:                     19.63\n",
      "Date:                Mon, 15 Mar 2021   Prob (F-statistic):           7.07e-22\n",
      "Time:                        22:49:21   Log-Likelihood:                -12.059\n",
      "No. Observations:                 120   AIC:                             50.12\n",
      "Df Residuals:                     107   BIC:                             86.35\n",
      "Df Model:                          12                                         \n",
      "Covariance Type:            nonrobust                                         \n",
      "=======================================================================================\n",
      "                          coef    std err          t      P>|t|      [0.025      0.975]\n",
      "---------------------------------------------------------------------------------------\n",
      "const                   2.9534      0.465      6.348      0.000       2.031       3.876\n",
      "Distance            -1.805e-05    1.2e-05     -1.508      0.135   -4.18e-05    5.68e-06\n",
      "Customer rating         0.1363      0.061      2.232      0.028       0.015       0.257\n",
      "Squares                 0.0184      0.003      5.356      0.000       0.012       0.025\n",
      "City_Belgrade          -0.0407      0.078     -0.521      0.603      -0.195       0.114\n",
      "City_Ljubljana          0.1626      0.081      1.996      0.048       0.001       0.324\n",
      "City_Zagreb             0.2580      0.076      3.394      0.001       0.107       0.409\n",
      "Hotel star rating_3    -0.1053      0.132     -0.797      0.427      -0.367       0.157\n",
      "Hotel star rating_4     0.1338      0.146      0.919      0.360      -0.155       0.422\n",
      "Hotel star rating_5     0.4388      0.170      2.579      0.011       0.102       0.776\n",
      "Rooms_2                 0.1467      0.062      2.381      0.019       0.025       0.269\n",
      "Rooms_3                 0.3566      0.085      4.176      0.000       0.187       0.526\n",
      "Rooms_4                 0.3493      0.121      2.883      0.005       0.109       0.589\n",
      "==============================================================================\n",
      "Omnibus:                        4.663   Durbin-Watson:                   1.367\n",
      "Prob(Omnibus):                  0.097   Jarque-Bera (JB):                4.077\n",
      "Skew:                          -0.417   Prob(JB):                        0.130\n",
      "Kurtosis:                       3.347   Cond. No.                     6.31e+04\n",
      "==============================================================================\n",
      "\n",
      "Notes:\n",
      "[1] Standard Errors assume that the covariance matrix of the errors is correctly specified.\n",
      "[2] The condition number is large, 6.31e+04. This might indicate that there are\n",
      "strong multicollinearity or other numerical problems.\n"
     ]
    }
   ],
   "source": [
    "x_lin = sm.add_constant(x_lin)\n",
    "model_loglin = sm.OLS(y_log, x_lin)\n",
    "results = model_loglin.fit()\n",
    "print(results.summary())"
   ]
  },
  {
   "cell_type": "markdown",
   "metadata": {
    "papermill": {
     "duration": 0.038776,
     "end_time": "2021-03-15T22:49:21.409386",
     "exception": false,
     "start_time": "2021-03-15T22:49:21.370610",
     "status": "completed"
    },
    "tags": []
   },
   "source": [
    "## Homoscedasticity"
   ]
  },
  {
   "cell_type": "markdown",
   "metadata": {
    "papermill": {
     "duration": 0.037895,
     "end_time": "2021-03-15T22:49:21.485649",
     "exception": false,
     "start_time": "2021-03-15T22:49:21.447754",
     "status": "completed"
    },
    "tags": []
   },
   "source": [
    "### RvF plot"
   ]
  },
  {
   "cell_type": "code",
   "execution_count": 17,
   "metadata": {
    "execution": {
     "iopub.execute_input": "2021-03-15T22:49:21.566304Z",
     "iopub.status.busy": "2021-03-15T22:49:21.565618Z",
     "iopub.status.idle": "2021-03-15T22:49:21.802515Z",
     "shell.execute_reply": "2021-03-15T22:49:21.801860Z"
    },
    "papermill": {
     "duration": 0.278672,
     "end_time": "2021-03-15T22:49:21.802699",
     "exception": false,
     "start_time": "2021-03-15T22:49:21.524027",
     "status": "completed"
    },
    "tags": []
   },
   "outputs": [
    {
     "data": {
      "image/png": "[encoded data removed]",
      "text/plain": [
       "<Figure size 720x504 with 1 Axes>"
      ]
     },
     "metadata": {
      "needs_background": "light"
     },
     "output_type": "display_data"
    }
   ],
   "source": [
    "ypred = results.predict(x_lin)\n",
    "\n",
    "plt.figure(figsize = (10,7))\n",
    "\n",
    "plt.scatter(x = ypred, y = results.resid, )\n",
    "\n",
    "plt.title(\"Residuals vs Fitted values\")\n",
    "plt.xlabel(\"Fitted values\")\n",
    "plt.ylabel(\"Residuals\")\n",
    "\n",
    "plt.axhline(0, c = \"red\")\n",
    "\n",
    "plt.show()"
   ]
  },
  {
   "cell_type": "markdown",
   "metadata": {
    "papermill": {
     "duration": 0.041176,
     "end_time": "2021-03-15T22:49:21.883750",
     "exception": false,
     "start_time": "2021-03-15T22:49:21.842574",
     "status": "completed"
    },
    "tags": []
   },
   "source": [
    "### Breusch Pagan test"
   ]
  },
  {
   "cell_type": "code",
   "execution_count": 18,
   "metadata": {
    "execution": {
     "iopub.execute_input": "2021-03-15T22:49:21.972711Z",
     "iopub.status.busy": "2021-03-15T22:49:21.971642Z",
     "iopub.status.idle": "2021-03-15T22:49:21.978597Z",
     "shell.execute_reply": "2021-03-15T22:49:21.979069Z"
    },
    "papermill": {
     "duration": 0.05582,
     "end_time": "2021-03-15T22:49:21.979295",
     "exception": false,
     "start_time": "2021-03-15T22:49:21.923475",
     "status": "completed"
    },
    "tags": []
   },
   "outputs": [
    {
     "data": {
      "text/plain": [
       "[('Lagrange multiplier statistic', 21.67281630415122),\n",
       " ('p-value', 0.04135461329769424),\n",
       " ('f-value', 1.9653698138023015),\n",
       " ('f p-value', 0.03447284836352285)]"
      ]
     },
     "execution_count": 18,
     "metadata": {},
     "output_type": "execute_result"
    }
   ],
   "source": [
    "keys = ['Lagrange multiplier statistic', 'p-value',\n",
    "        'f-value', 'f p-value']\n",
    "\n",
    "test = sms.het_breuschpagan(results.resid, results.model.exog)\n",
    "\n",
    "lzip(keys,test)"
   ]
  },
  {
   "cell_type": "markdown",
   "metadata": {
    "papermill": {
     "duration": 0.041309,
     "end_time": "2021-03-15T22:49:22.061988",
     "exception": false,
     "start_time": "2021-03-15T22:49:22.020679",
     "status": "completed"
    },
    "tags": []
   },
   "source": [
    "### White test"
   ]
  },
  {
   "cell_type": "code",
   "execution_count": 19,
   "metadata": {
    "execution": {
     "iopub.execute_input": "2021-03-15T22:49:22.146054Z",
     "iopub.status.busy": "2021-03-15T22:49:22.145397Z",
     "iopub.status.idle": "2021-03-15T22:49:22.161820Z",
     "shell.execute_reply": "2021-03-15T22:49:22.162341Z"
    },
    "papermill": {
     "duration": 0.059825,
     "end_time": "2021-03-15T22:49:22.162545",
     "exception": false,
     "start_time": "2021-03-15T22:49:22.102720",
     "status": "completed"
    },
    "tags": []
   },
   "outputs": [
    {
     "data": {
      "text/plain": [
       "[('Lagrange Multiplier statistic:', 61.91805055903761),\n",
       " (\"LM test's p-value:\", 0.714820102164155),\n",
       " ('F-statistic:', 0.7724973595216384),\n",
       " (\"F-test's p-value:\", 0.8408674162805678)]"
      ]
     },
     "execution_count": 19,
     "metadata": {},
     "output_type": "execute_result"
    }
   ],
   "source": [
    "keys = ['Lagrange Multiplier statistic:', 'LM test\\'s p-value:', 'F-statistic:', 'F-test\\'s p-value:']\n",
    "test = sms.het_white(results.resid, results.model.exog)\n",
    "\n",
    "lzip(keys,test)"
   ]
  },
  {
   "cell_type": "markdown",
   "metadata": {
    "papermill": {
     "duration": 0.039901,
     "end_time": "2021-03-15T22:49:22.242846",
     "exception": false,
     "start_time": "2021-03-15T22:49:22.202945",
     "status": "completed"
    },
    "tags": []
   },
   "source": [
    "## Multicolinearity"
   ]
  },
  {
   "cell_type": "code",
   "execution_count": 20,
   "metadata": {
    "execution": {
     "iopub.execute_input": "2021-03-15T22:49:22.328543Z",
     "iopub.status.busy": "2021-03-15T22:49:22.327803Z",
     "iopub.status.idle": "2021-03-15T22:49:23.714345Z",
     "shell.execute_reply": "2021-03-15T22:49:23.713761Z"
    },
    "papermill": {
     "duration": 1.431045,
     "end_time": "2021-03-15T22:49:23.714496",
     "exception": false,
     "start_time": "2021-03-15T22:49:22.283451",
     "status": "completed"
    },
    "tags": []
   },
   "outputs": [
    {
     "data": {
      "image/png": "[encoded data removed]",
      "text/plain": [
       "<Figure size 720x504 with 2 Axes>"
      ]
     },
     "metadata": {
      "needs_background": "light"
     },
     "output_type": "display_data"
    }
   ],
   "source": [
    "plt.figure(figsize = (10,7))\n",
    "\n",
    "\n",
    "sns.heatmap(x_lin.drop([\"const\"], axis = 1).corr(), annot = True, vmax = 1, vmin = -1, cmap = \"BrBG\")\n",
    "\n",
    "plt.title(\"Correlation matrix\")\n",
    "\n",
    "plt.show()"
   ]
  },
  {
   "cell_type": "markdown",
   "metadata": {
    "papermill": {
     "duration": 0.044168,
     "end_time": "2021-03-15T22:49:23.802846",
     "exception": false,
     "start_time": "2021-03-15T22:49:23.758678",
     "status": "completed"
    },
    "tags": []
   },
   "source": [
    "### VIF"
   ]
  },
  {
   "cell_type": "code",
   "execution_count": 21,
   "metadata": {
    "execution": {
     "iopub.execute_input": "2021-03-15T22:49:23.911450Z",
     "iopub.status.busy": "2021-03-15T22:49:23.910706Z",
     "iopub.status.idle": "2021-03-15T22:49:23.930538Z",
     "shell.execute_reply": "2021-03-15T22:49:23.931022Z"
    },
    "papermill": {
     "duration": 0.083491,
     "end_time": "2021-03-15T22:49:23.931217",
     "exception": false,
     "start_time": "2021-03-15T22:49:23.847726",
     "status": "completed"
    },
    "tags": []
   },
   "outputs": [
    {
     "data": {
      "text/html": [
       "<div>\n",
       "<style scoped>\n",
       "    .dataframe tbody tr th:only-of-type {\n",
       "        vertical-align: middle;\n",
       "    }\n",
       "\n",
       "    .dataframe tbody tr th {\n",
       "        vertical-align: top;\n",
       "    }\n",
       "\n",
       "    .dataframe thead th {\n",
       "        text-align: right;\n",
       "    }\n",
       "</style>\n",
       "<table border=\"1\" class=\"dataframe\">\n",
       "  <thead>\n",
       "    <tr style=\"text-align: right;\">\n",
       "      <th></th>\n",
       "      <th>vif</th>\n",
       "    </tr>\n",
       "  </thead>\n",
       "  <tbody>\n",
       "    <tr>\n",
       "      <th>Distance</th>\n",
       "      <td>1.261040</td>\n",
       "    </tr>\n",
       "    <tr>\n",
       "      <th>Customer rating</th>\n",
       "      <td>2.103594</td>\n",
       "    </tr>\n",
       "    <tr>\n",
       "      <th>Squares</th>\n",
       "      <td>1.922740</td>\n",
       "    </tr>\n",
       "    <tr>\n",
       "      <th>City_Belgrade</th>\n",
       "      <td>1.708768</td>\n",
       "    </tr>\n",
       "    <tr>\n",
       "      <th>City_Ljubljana</th>\n",
       "      <td>1.858986</td>\n",
       "    </tr>\n",
       "    <tr>\n",
       "      <th>City_Zagreb</th>\n",
       "      <td>1.619136</td>\n",
       "    </tr>\n",
       "    <tr>\n",
       "      <th>Hotel star rating_3</th>\n",
       "      <td>5.942739</td>\n",
       "    </tr>\n",
       "    <tr>\n",
       "      <th>Hotel star rating_4</th>\n",
       "      <td>7.841235</td>\n",
       "    </tr>\n",
       "    <tr>\n",
       "      <th>Hotel star rating_5</th>\n",
       "      <td>4.733673</td>\n",
       "    </tr>\n",
       "    <tr>\n",
       "      <th>Rooms_2</th>\n",
       "      <td>1.378657</td>\n",
       "    </tr>\n",
       "    <tr>\n",
       "      <th>Rooms_3</th>\n",
       "      <td>1.514125</td>\n",
       "    </tr>\n",
       "    <tr>\n",
       "      <th>Rooms_4</th>\n",
       "      <td>1.676050</td>\n",
       "    </tr>\n",
       "  </tbody>\n",
       "</table>\n",
       "</div>"
      ],
      "text/plain": [
       "                          vif\n",
       "Distance             1.261040\n",
       "Customer rating      2.103594\n",
       "Squares              1.922740\n",
       "City_Belgrade        1.708768\n",
       "City_Ljubljana       1.858986\n",
       "City_Zagreb          1.619136\n",
       "Hotel star rating_3  5.942739\n",
       "Hotel star rating_4  7.841235\n",
       "Hotel star rating_5  4.733673\n",
       "Rooms_2              1.378657\n",
       "Rooms_3              1.514125\n",
       "Rooms_4              1.676050"
      ]
     },
     "execution_count": 21,
     "metadata": {},
     "output_type": "execute_result"
    }
   ],
   "source": [
    "vif = [variance_inflation_factor(x_lin.values, i) for i in range(x_lin.shape[1])]\n",
    "pd.DataFrame({'vif': vif[0:]}, index = x_lin.columns)[1:]"
   ]
  },
  {
   "cell_type": "code",
   "execution_count": 22,
   "metadata": {
    "execution": {
     "iopub.execute_input": "2021-03-15T22:49:24.023342Z",
     "iopub.status.busy": "2021-03-15T22:49:24.022660Z",
     "iopub.status.idle": "2021-03-15T22:49:24.028424Z",
     "shell.execute_reply": "2021-03-15T22:49:24.028994Z"
    },
    "papermill": {
     "duration": 0.053615,
     "end_time": "2021-03-15T22:49:24.029165",
     "exception": false,
     "start_time": "2021-03-15T22:49:23.975550",
     "status": "completed"
    },
    "tags": []
   },
   "outputs": [
    {
     "data": {
      "text/plain": [
       "2.7967285901979584"
      ]
     },
     "execution_count": 22,
     "metadata": {},
     "output_type": "execute_result"
    }
   ],
   "source": [
    "np.mean(vif[1:])"
   ]
  },
  {
   "cell_type": "markdown",
   "metadata": {
    "papermill": {
     "duration": 0.043915,
     "end_time": "2021-03-15T22:49:24.118068",
     "exception": false,
     "start_time": "2021-03-15T22:49:24.074153",
     "status": "completed"
    },
    "tags": []
   },
   "source": [
    "## Normality of residuals"
   ]
  },
  {
   "cell_type": "code",
   "execution_count": 23,
   "metadata": {
    "execution": {
     "iopub.execute_input": "2021-03-15T22:49:24.211287Z",
     "iopub.status.busy": "2021-03-15T22:49:24.210650Z",
     "iopub.status.idle": "2021-03-15T22:49:24.402296Z",
     "shell.execute_reply": "2021-03-15T22:49:24.401755Z"
    },
    "papermill": {
     "duration": 0.240093,
     "end_time": "2021-03-15T22:49:24.402500",
     "exception": false,
     "start_time": "2021-03-15T22:49:24.162407",
     "status": "completed"
    },
    "tags": []
   },
   "outputs": [
    {
     "data": {
      "image/png": "[encoded data removed]",
      "text/plain": [
       "<Figure size 720x504 with 1 Axes>"
      ]
     },
     "metadata": {
      "needs_background": "light"
     },
     "output_type": "display_data"
    }
   ],
   "source": [
    "plt.figure(figsize = (10,7))\n",
    "\n",
    "plt.hist(results.resid)\n",
    "\n",
    "plt.title(\"Histogram of Residuals\")\n",
    "\n",
    "plt.show()"
   ]
  },
  {
   "cell_type": "markdown",
   "metadata": {
    "papermill": {
     "duration": 0.0448,
     "end_time": "2021-03-15T22:49:24.492182",
     "exception": false,
     "start_time": "2021-03-15T22:49:24.447382",
     "status": "completed"
    },
    "tags": []
   },
   "source": [
    "### Jarque-Bera test"
   ]
  },
  {
   "cell_type": "code",
   "execution_count": 24,
   "metadata": {
    "execution": {
     "iopub.execute_input": "2021-03-15T22:49:24.591362Z",
     "iopub.status.busy": "2021-03-15T22:49:24.590655Z",
     "iopub.status.idle": "2021-03-15T22:49:24.594481Z",
     "shell.execute_reply": "2021-03-15T22:49:24.594973Z"
    },
    "papermill": {
     "duration": 0.058036,
     "end_time": "2021-03-15T22:49:24.595161",
     "exception": false,
     "start_time": "2021-03-15T22:49:24.537125",
     "status": "completed"
    },
    "tags": []
   },
   "outputs": [
    {
     "data": {
      "text/plain": [
       "[('Jarque-Bera test', 4.077402051527896),\n",
       " ('Chi-squared(2) p-value', 0.13019772457225576),\n",
       " ('Skewness', -0.41686520637925123),\n",
       " ('Kurtosis', 3.3469495772401463)]"
      ]
     },
     "execution_count": 24,
     "metadata": {},
     "output_type": "execute_result"
    }
   ],
   "source": [
    "keys = ['Jarque-Bera test', 'Chi-squared(2) p-value', 'Skewness', 'Kurtosis']\n",
    "test = sms.jarque_bera(results.resid)\n",
    "\n",
    "lzip(keys, test)"
   ]
  },
  {
   "cell_type": "markdown",
   "metadata": {
    "papermill": {
     "duration": 0.046115,
     "end_time": "2021-03-15T22:49:24.688542",
     "exception": false,
     "start_time": "2021-03-15T22:49:24.642427",
     "status": "completed"
    },
    "tags": []
   },
   "source": []
  },
  {
   "cell_type": "markdown",
   "metadata": {
    "papermill": {
     "duration": 0.046085,
     "end_time": "2021-03-15T22:49:24.781299",
     "exception": false,
     "start_time": "2021-03-15T22:49:24.735214",
     "status": "completed"
    },
    "tags": []
   },
   "source": [
    "## Conclusion"
   ]
  },
  {
   "cell_type": "markdown",
   "metadata": {
    "papermill": {
     "duration": 0.046252,
     "end_time": "2021-03-15T22:49:24.874058",
     "exception": false,
     "start_time": "2021-03-15T22:49:24.827806",
     "status": "completed"
    },
    "tags": []
   },
   "source": [
    "### Model is BLUE-Best Linear Unbiased Estimator. All of the assumptions are fulfilled, except BP test for heteroscedasticity. Despite BP test fail, White test showed high statistics and we can conclude that variance is constant. RvF plot also supports White test. VIF showed few variables with higher values but they are all <10, and the average VIF is not so high. R squared is solid and the model is statisticaly significant. Some of the variables are not statisticaly significant. Further if we want better model, we could try to drop outliers or drop some of the statisticaly insignificant variables or try other forms of model."
   ]
  },
  {
   "cell_type": "code",
   "execution_count": 25,
   "metadata": {
    "execution": {
     "iopub.execute_input": "2021-03-15T22:49:24.973353Z",
     "iopub.status.busy": "2021-03-15T22:49:24.972600Z",
     "iopub.status.idle": "2021-03-15T22:49:24.995444Z",
     "shell.execute_reply": "2021-03-15T22:49:24.996103Z"
    },
    "papermill": {
     "duration": 0.075718,
     "end_time": "2021-03-15T22:49:24.996357",
     "exception": false,
     "start_time": "2021-03-15T22:49:24.920639",
     "status": "completed"
    },
    "tags": []
   },
   "outputs": [
    {
     "name": "stdout",
     "output_type": "stream",
     "text": [
      "                            OLS Regression Results                            \n",
      "==============================================================================\n",
      "Dep. Variable:             Price(BAM)   R-squared:                       0.688\n",
      "Model:                            OLS   Adj. R-squared:                  0.653\n",
      "Method:                 Least Squares   F-statistic:                     19.63\n",
      "Date:                Mon, 15 Mar 2021   Prob (F-statistic):           7.07e-22\n",
      "Time:                        22:49:24   Log-Likelihood:                -12.059\n",
      "No. Observations:                 120   AIC:                             50.12\n",
      "Df Residuals:                     107   BIC:                             86.35\n",
      "Df Model:                          12                                         \n",
      "Covariance Type:            nonrobust                                         \n",
      "=======================================================================================\n",
      "                          coef    std err          t      P>|t|      [0.025      0.975]\n",
      "---------------------------------------------------------------------------------------\n",
      "const                   2.9534      0.465      6.348      0.000       2.031       3.876\n",
      "Distance            -1.805e-05    1.2e-05     -1.508      0.135   -4.18e-05    5.68e-06\n",
      "Customer rating         0.1363      0.061      2.232      0.028       0.015       0.257\n",
      "Squares                 0.0184      0.003      5.356      0.000       0.012       0.025\n",
      "City_Belgrade          -0.0407      0.078     -0.521      0.603      -0.195       0.114\n",
      "City_Ljubljana          0.1626      0.081      1.996      0.048       0.001       0.324\n",
      "City_Zagreb             0.2580      0.076      3.394      0.001       0.107       0.409\n",
      "Hotel star rating_3    -0.1053      0.132     -0.797      0.427      -0.367       0.157\n",
      "Hotel star rating_4     0.1338      0.146      0.919      0.360      -0.155       0.422\n",
      "Hotel star rating_5     0.4388      0.170      2.579      0.011       0.102       0.776\n",
      "Rooms_2                 0.1467      0.062      2.381      0.019       0.025       0.269\n",
      "Rooms_3                 0.3566      0.085      4.176      0.000       0.187       0.526\n",
      "Rooms_4                 0.3493      0.121      2.883      0.005       0.109       0.589\n",
      "==============================================================================\n",
      "Omnibus:                        4.663   Durbin-Watson:                   1.367\n",
      "Prob(Omnibus):                  0.097   Jarque-Bera (JB):                4.077\n",
      "Skew:                          -0.417   Prob(JB):                        0.130\n",
      "Kurtosis:                       3.347   Cond. No.                     6.31e+04\n",
      "==============================================================================\n",
      "\n",
      "Notes:\n",
      "[1] Standard Errors assume that the covariance matrix of the errors is correctly specified.\n",
      "[2] The condition number is large, 6.31e+04. This might indicate that there are\n",
      "strong multicollinearity or other numerical problems.\n"
     ]
    }
   ],
   "source": [
    "x_lin = sm.add_constant(x_lin)\n",
    "model_loglin = sm.OLS(y_log, x_lin)\n",
    "results = model_loglin.fit()\n",
    "print(results.summary())"
   ]
  }
 ],
 "metadata": {
  "kernelspec": {
   "display_name": "Python 3",
   "language": "python",
   "name": "python3"
  },
  "language_info": {
   "codemirror_mode": {
    "name": "ipython",
    "version": 3
   },
   "file_extension": ".py",
   "mimetype": "text/x-python",
   "name": "python",
   "nbconvert_exporter": "python",
   "pygments_lexer": "ipython3",
   "version": "3.7.9"
  },
  "papermill": {
   "default_parameters": {},
   "duration": 27.665521,
   "end_time": "2021-03-15T22:49:26.055605",
   "environment_variables": {},
   "exception": null,
   "input_path": "__notebook__.ipynb",
   "output_path": "__notebook__.ipynb",
   "parameters": {},
   "start_time": "2021-03-15T22:48:58.390084",
   "version": "2.2.2"
  }
 },
 "nbformat": 4,
 "nbformat_minor": 4
}
